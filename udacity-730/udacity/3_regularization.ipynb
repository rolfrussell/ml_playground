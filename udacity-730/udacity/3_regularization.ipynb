{
 "cells": [
  {
   "cell_type": "markdown",
   "metadata": {
    "colab_type": "text",
    "id": "kR-4eNdK6lYS"
   },
   "source": [
    "Deep Learning\n",
    "=============\n",
    "\n",
    "Assignment 3\n",
    "------------\n",
    "\n",
    "Previously in `2_fullyconnected.ipynb`, you trained a logistic regression and a neural network model.\n",
    "\n",
    "The goal of this assignment is to explore regularization techniques."
   ]
  },
  {
   "cell_type": "code",
   "execution_count": 1,
   "metadata": {
    "cellView": "both",
    "colab": {
     "autoexec": {
      "startup": false,
      "wait_interval": 0
     }
    },
    "colab_type": "code",
    "collapsed": true,
    "id": "JLpLa8Jt7Vu4"
   },
   "outputs": [],
   "source": [
    "# These are all the modules we'll be using later. Make sure you can import them\n",
    "# before proceeding further.\n",
    "from __future__ import print_function\n",
    "import numpy as np\n",
    "import tensorflow as tf\n",
    "from six.moves import cPickle as pickle"
   ]
  },
  {
   "cell_type": "markdown",
   "metadata": {
    "colab_type": "text",
    "id": "1HrCK6e17WzV"
   },
   "source": [
    "First reload the data we generated in _notmist.ipynb_."
   ]
  },
  {
   "cell_type": "code",
   "execution_count": 2,
   "metadata": {
    "cellView": "both",
    "colab": {
     "autoexec": {
      "startup": false,
      "wait_interval": 0
     },
     "output_extras": [
      {
       "item_id": 1
      }
     ]
    },
    "colab_type": "code",
    "collapsed": false,
    "executionInfo": {
     "elapsed": 11777,
     "status": "ok",
     "timestamp": 1449849322348,
     "user": {
      "color": "",
      "displayName": "",
      "isAnonymous": false,
      "isMe": true,
      "permissionId": "",
      "photoUrl": "",
      "sessionId": "0",
      "userId": ""
     },
     "user_tz": 480
    },
    "id": "y3-cj1bpmuxc",
    "outputId": "e03576f1-ebbe-4838-c388-f1777bcc9873"
   },
   "outputs": [
    {
     "name": "stdout",
     "output_type": "stream",
     "text": [
      "Training set (200000, 28, 28) (200000,)\n",
      "Validation set (10000, 28, 28) (10000,)\n",
      "Test set (10000, 28, 28) (10000,)\n"
     ]
    }
   ],
   "source": [
    "pickle_file = 'notMNIST.pickle'\n",
    "\n",
    "with open(pickle_file, 'rb') as f:\n",
    "  save = pickle.load(f)\n",
    "  train_dataset = save['train_dataset']\n",
    "  train_labels = save['train_labels']\n",
    "  valid_dataset = save['valid_dataset']\n",
    "  valid_labels = save['valid_labels']\n",
    "  test_dataset = save['test_dataset']\n",
    "  test_labels = save['test_labels']\n",
    "  del save  # hint to help gc free up memory\n",
    "  print('Training set', train_dataset.shape, train_labels.shape)\n",
    "  print('Validation set', valid_dataset.shape, valid_labels.shape)\n",
    "  print('Test set', test_dataset.shape, test_labels.shape)"
   ]
  },
  {
   "cell_type": "markdown",
   "metadata": {
    "colab_type": "text",
    "id": "L7aHrm6nGDMB"
   },
   "source": [
    "Reformat into a shape that's more adapted to the models we're going to train:\n",
    "- data as a flat matrix,\n",
    "- labels as float 1-hot encodings."
   ]
  },
  {
   "cell_type": "code",
   "execution_count": 3,
   "metadata": {
    "cellView": "both",
    "colab": {
     "autoexec": {
      "startup": false,
      "wait_interval": 0
     },
     "output_extras": [
      {
       "item_id": 1
      }
     ]
    },
    "colab_type": "code",
    "collapsed": false,
    "executionInfo": {
     "elapsed": 11728,
     "status": "ok",
     "timestamp": 1449849322356,
     "user": {
      "color": "",
      "displayName": "",
      "isAnonymous": false,
      "isMe": true,
      "permissionId": "",
      "photoUrl": "",
      "sessionId": "0",
      "userId": ""
     },
     "user_tz": 480
    },
    "id": "IRSyYiIIGIzS",
    "outputId": "3f8996ee-3574-4f44-c953-5c8a04636582"
   },
   "outputs": [
    {
     "name": "stdout",
     "output_type": "stream",
     "text": [
      "Training set (200000, 784) (200000, 10)\n",
      "Validation set (10000, 784) (10000, 10)\n",
      "Test set (10000, 784) (10000, 10)\n"
     ]
    }
   ],
   "source": [
    "IMAGE_SIZE = 28\n",
    "NUM_LABELS = 10\n",
    "\n",
    "def reformat(dataset, labels):\n",
    "  dataset = dataset.reshape((-1, IMAGE_SIZE * IMAGE_SIZE)).astype(np.float32)\n",
    "  # Map 2 to [0.0, 1.0, 0.0 ...], 3 to [0.0, 0.0, 1.0 ...]\n",
    "  labels = (np.arange(NUM_LABELS) == labels[:,None]).astype(np.float32)\n",
    "  return dataset, labels\n",
    "\n",
    "train_dataset, train_labels = reformat(train_dataset, train_labels)\n",
    "valid_dataset, valid_labels = reformat(valid_dataset, valid_labels)\n",
    "test_dataset, test_labels = reformat(test_dataset, test_labels)\n",
    "\n",
    "print('Training set', train_dataset.shape, train_labels.shape)\n",
    "print('Validation set', valid_dataset.shape, valid_labels.shape)\n",
    "print('Test set', test_dataset.shape, test_labels.shape)"
   ]
  },
  {
   "cell_type": "code",
   "execution_count": 4,
   "metadata": {
    "cellView": "both",
    "colab": {
     "autoexec": {
      "startup": false,
      "wait_interval": 0
     }
    },
    "colab_type": "code",
    "collapsed": true,
    "id": "RajPLaL_ZW6w"
   },
   "outputs": [],
   "source": [
    "def accuracy(predictions, labels):\n",
    "  return (100.0 * np.sum(np.argmax(predictions, 1) == np.argmax(labels, 1))\n",
    "          / predictions.shape[0])"
   ]
  },
  {
   "cell_type": "markdown",
   "metadata": {
    "colab_type": "text",
    "id": "sgLbUAQ1CW-1"
   },
   "source": [
    "---\n",
    "Problem 1\n",
    "---------\n",
    "\n",
    "Introduce and tune L2 regularization for both logistic and neural network models. Remember that L2 amounts to adding a penalty on the norm of the weights to the loss. In TensorFlow, you can compute the L2 loss for a tensor `t` using `nn.l2_loss(t)`. The right amount of regularization should improve your validation / test accuracy.\n",
    "\n",
    "---"
   ]
  },
  {
   "cell_type": "code",
   "execution_count": 5,
   "metadata": {
    "collapsed": false
   },
   "outputs": [
    {
     "name": "stdout",
     "output_type": "stream",
     "text": [
      "train_dataset (200000, 784)\n",
      "mini_train_dataset (500, 784)\n",
      "train_labels (200000,)\n",
      "mini_train_labels (500,)\n",
      "8381 correct predictions of 10000 for 83.81 %\n"
     ]
    }
   ],
   "source": [
    "# L2 regularization on logistic model\n",
    "# no real purpose.  it was already done.  maybe i should do it in tensorflow\n",
    "\n",
    "from sklearn.linear_model import LogisticRegression\n",
    "\n",
    "with open(pickle_file, 'rb') as f:\n",
    "  save = pickle.load(f)\n",
    "  train_labels_for_logistic = save['train_labels']\n",
    "  valid_labels_for_logistic = save['valid_labels']\n",
    "  test_labels_for_logistic = save['test_labels']\n",
    "\n",
    "SAMPLE_SIZE = 500\n",
    "mini_train_dataset = train_dataset[100:SAMPLE_SIZE+100]\n",
    "mini_train_labels = train_labels_for_logistic[100:SAMPLE_SIZE+100]\n",
    "\n",
    "print(\"train_dataset\", train_dataset.shape)\n",
    "print(\"mini_train_dataset\", mini_train_dataset.shape)\n",
    "print(\"train_labels\", train_labels_for_logistic.shape)\n",
    "print(\"mini_train_labels\", mini_train_labels.shape)\n",
    "\n",
    "model = LogisticRegression(penalty='l2', dual=False, tol=0.0001, C=1.0, fit_intercept=True, intercept_scaling=1, \n",
    "                           class_weight=None, random_state=None, solver='lbfgs', max_iter=100, multi_class='ovr', \n",
    "                           verbose=0, warm_start=False, n_jobs=-1)\n",
    "model.fit(mini_train_dataset, mini_train_labels)\n",
    "\n",
    "test_dataset_size = test_dataset.shape[0]\n",
    "prediction = model.predict(test_dataset.reshape(test_dataset_size,IMAGE_SIZE*IMAGE_SIZE))\n",
    "correct = np.sum(prediction == test_labels_for_logistic)\n",
    "print(correct, 'correct predictions of', test_dataset_size, 'for', 100.0*correct/test_dataset_size, '%')\n"
   ]
  },
  {
   "cell_type": "code",
   "execution_count": 7,
   "metadata": {
    "collapsed": false
   },
   "outputs": [
    {
     "name": "stdout",
     "output_type": "stream",
     "text": [
      "network defined\n",
      "Minibatch loss at step 0: 543.508667\n",
      "Minibatch accuracy: 12.5%\n",
      "Validation accuracy: 29.1% \n",
      "\n",
      "Minibatch loss at step 500: 155.223480\n",
      "Minibatch accuracy: 87.5%\n",
      "Validation accuracy: 81.0% \n",
      "\n",
      "Minibatch loss at step 1000: 138.165207\n",
      "Minibatch accuracy: 81.2%\n",
      "Validation accuracy: 82.1% \n",
      "\n",
      "Minibatch loss at step 1500: 120.085419\n",
      "Minibatch accuracy: 89.1%\n",
      "Validation accuracy: 83.5% \n",
      "\n",
      "Minibatch loss at step 2000: 108.651634\n",
      "Minibatch accuracy: 84.4%\n",
      "Validation accuracy: 82.8% \n",
      "\n",
      "Minibatch loss at step 2500: 96.588432\n",
      "Minibatch accuracy: 85.2%\n",
      "Validation accuracy: 84.0% \n",
      "\n",
      "Minibatch loss at step 3000: 86.730339\n",
      "Minibatch accuracy: 82.8%\n",
      "Validation accuracy: 83.6% \n",
      "\n",
      "Test accuracy: 90.8%\n"
     ]
    }
   ],
   "source": [
    "# L2 regularization on neural network model\n",
    "\n",
    "BATCH_SIZE = 128\n",
    "\n",
    "def forward_prop(dataset, weights1, biases1, weights2, biases2):\n",
    "  calc1_output = tf.matmul(dataset, weights1) + biases1\n",
    "  relu_output = tf.nn.relu(calc1_output)\n",
    "  return tf.matmul(relu_output, weights2) + biases2\n",
    "\n",
    "graph5 = tf.Graph()\n",
    "with graph5.as_default():\n",
    "\n",
    "  # Input data. For the training data, we use a placeholder that will be fed at run time with a training minibatch.\n",
    "  tf_train_dataset = tf.placeholder(tf.as_dtype(train_dataset.dtype), shape = (BATCH_SIZE, train_dataset.shape[1]))\n",
    "  tf_train_labels = tf.placeholder(tf.as_dtype(train_labels.dtype), shape = (BATCH_SIZE, train_labels.shape[1]))\n",
    "  tf_valid_dataset = tf.constant(valid_dataset)\n",
    "  tf_test_dataset = tf.constant(test_dataset)\n",
    "\n",
    "  # Variables.\n",
    "  input_size = train_dataset.shape[1]\n",
    "  hidden_size = 1028\n",
    "  output_size = train_labels.shape[1]\n",
    "  weights1 = tf.Variable(tf.truncated_normal([input_size, hidden_size]))\n",
    "  biases1 = tf.Variable(tf.truncated_normal([hidden_size], stddev=1.0))\n",
    "  weights2 = tf.Variable(tf.truncated_normal([hidden_size, output_size]))\n",
    "  biases2 = tf.Variable(tf.truncated_normal([output_size], stddev=1.0))\n",
    "\n",
    "  # Training computation.\n",
    "  logits = forward_prop(tf_train_dataset, weights1, biases1, weights2, biases2)\n",
    "  loss = tf.reduce_mean(tf.nn.softmax_cross_entropy_with_logits(logits, tf_train_labels))\n",
    "  regularizers = (tf.nn.l2_loss(weights1) + tf.nn.l2_loss(biases1) + tf.nn.l2_loss(weights2) + tf.nn.l2_loss(biases2))\n",
    "  loss += 5e-4 * regularizers\n",
    "  loss_summary = tf.scalar_summary(\"loss\", loss)\n",
    "\n",
    "  # Optimizer.\n",
    "  optimizer = tf.train.GradientDescentOptimizer(0.2).minimize(loss)\n",
    "\n",
    "  # Predictions for the training, validation, and test data.\n",
    "  train_prediction = tf.nn.softmax(logits)\n",
    "  valid_prediction = tf.nn.softmax(forward_prop(tf_valid_dataset, weights1, biases1, weights2, biases2))\n",
    "  test_prediction = tf.nn.softmax(forward_prop(tf_test_dataset, weights1, biases1, weights2, biases2))\n",
    "\n",
    "print('network defined')\n",
    "\n",
    "num_training_examples = train_dataset.shape[0]\n",
    "\n",
    "with tf.Session(graph=graph5) as session:\n",
    "  tf.initialize_all_variables().run()\n",
    "  \n",
    "  for step in range(3001):\n",
    "    offset = (step * BATCH_SIZE) % (num_training_examples - BATCH_SIZE)\n",
    "\n",
    "    batch_dataset = train_dataset[offset:(offset+BATCH_SIZE), :]\n",
    "    batch_labels = train_labels[offset:(offset+BATCH_SIZE), :]\n",
    "\n",
    "    feed_dict = {tf_train_dataset: batch_dataset, tf_train_labels: batch_labels}\n",
    "    _, l, predictions = session.run([optimizer, loss, train_prediction], feed_dict=feed_dict)\n",
    "    \n",
    "    if step % 500 == 0:\n",
    "      print(\"Minibatch loss at step %d: %f\" % (step, l))\n",
    "      print(\"Minibatch accuracy: %.1f%%\" % accuracy(predictions, batch_labels))\n",
    "      print(\"Validation accuracy: %.1f%%\" % accuracy(valid_prediction.eval(), valid_labels), \"\\n\")\n",
    "\n",
    "  print(\"Test accuracy: %.1f%%\" % accuracy(test_prediction.eval(), test_labels))"
   ]
  },
  {
   "cell_type": "markdown",
   "metadata": {
    "colab_type": "text",
    "id": "na8xX2yHZzNF"
   },
   "source": [
    "---\n",
    "Problem 2\n",
    "---------\n",
    "Let's demonstrate an extreme case of overfitting. Restrict your training data to just a few batches. What happens?\n",
    "\n",
    "---"
   ]
  },
  {
   "cell_type": "code",
   "execution_count": 11,
   "metadata": {
    "collapsed": false
   },
   "outputs": [
    {
     "name": "stdout",
     "output_type": "stream",
     "text": [
      "network defined\n",
      "Minibatch loss at step 0: 611.137451\n",
      "Minibatch accuracy: 9.4%\n",
      "Validation accuracy: 23.0% \n",
      "\n",
      "Minibatch loss at step 500: 142.993271\n",
      "Minibatch accuracy: 100.0%\n",
      "Validation accuracy: 76.4% \n",
      "\n",
      "Minibatch loss at step 1000: 129.384903\n",
      "Minibatch accuracy: 100.0%\n",
      "Validation accuracy: 76.4% \n",
      "\n",
      "Minibatch loss at step 1500: 117.071701\n",
      "Minibatch accuracy: 100.0%\n",
      "Validation accuracy: 76.4% \n",
      "\n",
      "Minibatch loss at step 2000: 105.930176\n",
      "Minibatch accuracy: 100.0%\n",
      "Validation accuracy: 76.4% \n",
      "\n",
      "Minibatch loss at step 2500: 95.849335\n",
      "Minibatch accuracy: 100.0%\n",
      "Validation accuracy: 76.4% \n",
      "\n",
      "Minibatch loss at step 3000: 86.727486\n",
      "Minibatch accuracy: 100.0%\n",
      "Validation accuracy: 76.4% \n",
      "\n",
      "Test accuracy: 84.0%\n"
     ]
    }
   ],
   "source": [
    "# Restrict to 10 batches for extreme overfitting\n",
    "\n",
    "BATCH_SIZE = 128\n",
    "SAMPLE_SIZE = 10*BATCH_SIZE\n",
    "mini_train_dataset = train_dataset[:SAMPLE_SIZE]\n",
    "mini_train_labels = train_labels[:SAMPLE_SIZE]\n",
    "\n",
    "def forward_prop(dataset, weights1, biases1, weights2, biases2):\n",
    "  calc1_output = tf.matmul(dataset, weights1) + biases1\n",
    "  relu_output = tf.nn.relu(calc1_output)\n",
    "  return tf.matmul(relu_output, weights2) + biases2\n",
    "\n",
    "graph5 = tf.Graph()\n",
    "with graph5.as_default():\n",
    "\n",
    "  # Input data. For the training data, we use a placeholder that will be fed at run time with a training minibatch.\n",
    "  tf_train_dataset = tf.placeholder(tf.as_dtype(mini_train_dataset.dtype), shape = (BATCH_SIZE, mini_train_dataset.shape[1]))\n",
    "  tf_train_labels = tf.placeholder(tf.as_dtype(mini_train_labels.dtype), shape = (BATCH_SIZE, mini_train_labels.shape[1]))\n",
    "  tf_valid_dataset = tf.constant(valid_dataset)\n",
    "  tf_test_dataset = tf.constant(test_dataset)\n",
    "\n",
    "  # Variables.\n",
    "  input_size = mini_train_dataset.shape[1]\n",
    "  hidden_size = 1028\n",
    "  output_size = mini_train_labels.shape[1]\n",
    "  weights1 = tf.Variable(tf.truncated_normal([input_size, hidden_size]))\n",
    "  biases1 = tf.Variable(tf.truncated_normal([hidden_size], stddev=1.0))\n",
    "  weights2 = tf.Variable(tf.truncated_normal([hidden_size, output_size]))\n",
    "  biases2 = tf.Variable(tf.truncated_normal([output_size], stddev=1.0))\n",
    "\n",
    "  # Training computation.\n",
    "  logits = forward_prop(tf_train_dataset, weights1, biases1, weights2, biases2)\n",
    "  loss = tf.reduce_mean(tf.nn.softmax_cross_entropy_with_logits(logits, tf_train_labels))\n",
    "  regularizers = (tf.nn.l2_loss(weights1) + tf.nn.l2_loss(biases1) + tf.nn.l2_loss(weights2) + tf.nn.l2_loss(biases2))\n",
    "  loss += 5e-4 * regularizers\n",
    "  loss_summary = tf.scalar_summary(\"loss\", loss)\n",
    "\n",
    "  # Optimizer.\n",
    "  optimizer = tf.train.GradientDescentOptimizer(0.2).minimize(loss)\n",
    "\n",
    "  # Predictions for the training, validation, and test data.\n",
    "  train_prediction = tf.nn.softmax(logits)\n",
    "  valid_prediction = tf.nn.softmax(forward_prop(tf_valid_dataset, weights1, biases1, weights2, biases2))\n",
    "  test_prediction = tf.nn.softmax(forward_prop(tf_test_dataset, weights1, biases1, weights2, biases2))\n",
    "\n",
    "print('network defined')\n",
    "\n",
    "num_training_examples = mini_train_dataset.shape[0]\n",
    "\n",
    "with tf.Session(graph=graph5) as session:\n",
    "  tf.initialize_all_variables().run()\n",
    "  \n",
    "  for step in range(3001):\n",
    "    offset = (step * BATCH_SIZE) % (num_training_examples - BATCH_SIZE)\n",
    "\n",
    "    batch_dataset = mini_train_dataset[offset:(offset+BATCH_SIZE), :]\n",
    "    batch_labels = mini_train_labels[offset:(offset+BATCH_SIZE), :]\n",
    "\n",
    "    feed_dict = {tf_train_dataset: batch_dataset, tf_train_labels: batch_labels}\n",
    "    _, l, predictions = session.run([optimizer, loss, train_prediction], feed_dict=feed_dict)\n",
    "    \n",
    "    if step % 500 == 0:\n",
    "      print(\"Minibatch loss at step %d: %f\" % (step, l))\n",
    "      print(\"Minibatch accuracy: %.1f%%\" % accuracy(predictions, batch_labels))\n",
    "      print(\"Validation accuracy: %.1f%%\" % accuracy(valid_prediction.eval(), valid_labels), \"\\n\")\n",
    "\n",
    "  print(\"Test accuracy: %.1f%%\" % accuracy(test_prediction.eval(), test_labels))"
   ]
  },
  {
   "cell_type": "markdown",
   "metadata": {
    "colab_type": "text",
    "id": "ww3SCBUdlkRc"
   },
   "source": [
    "---\n",
    "Problem 3\n",
    "---------\n",
    "Introduce Dropout on the hidden layer of the neural network. Remember: Dropout should only be introduced during training, not evaluation, otherwise your evaluation results would be stochastic as well. TensorFlow provides `nn.dropout()` for that, but you have to make sure it's only inserted during training.\n",
    "\n",
    "What happens to our extreme overfitting case?\n",
    "\n",
    "---"
   ]
  },
  {
   "cell_type": "code",
   "execution_count": 38,
   "metadata": {
    "collapsed": false
   },
   "outputs": [
    {
     "name": "stdout",
     "output_type": "stream",
     "text": [
      "network defined\n",
      "Minibatch loss at step 0: 516.165771\n",
      "Minibatch accuracy: 13.3%\n",
      "Validation accuracy: 31.0% \n",
      "\n",
      "Minibatch loss at step 500: 0.161151\n",
      "Minibatch accuracy: 98.4%\n",
      "Validation accuracy: 79.8% \n",
      "\n",
      "Minibatch loss at step 1000: 0.299517\n",
      "Minibatch accuracy: 99.2%\n",
      "Validation accuracy: 79.9% \n",
      "\n",
      "Minibatch loss at step 1500: 0.000000\n",
      "Minibatch accuracy: 100.0%\n",
      "Validation accuracy: 80.0% \n",
      "\n",
      "Minibatch loss at step 2000: 0.000000\n",
      "Minibatch accuracy: 100.0%\n",
      "Validation accuracy: 80.5% \n",
      "\n",
      "Minibatch loss at step 2500: 0.000000\n",
      "Minibatch accuracy: 100.0%\n",
      "Validation accuracy: 80.2% \n",
      "\n",
      "Minibatch loss at step 3000: 0.312540\n",
      "Minibatch accuracy: 99.2%\n",
      "Validation accuracy: 80.4% \n",
      "\n",
      "Test accuracy: 87.7%\n"
     ]
    }
   ],
   "source": [
    "# Introduce dropout\n",
    "\n",
    "import random\n",
    "\n",
    "BATCH_SIZE = 128\n",
    "SAMPLE_SIZE = 10*BATCH_SIZE\n",
    "# mini_train_dataset = train_dataset[:SAMPLE_SIZE]\n",
    "# mini_train_labels = train_labels[:SAMPLE_SIZE]\n",
    "\n",
    "def forward_prop(dataset, train=False):\n",
    "  layer1 = tf.matmul(dataset, weights1) + biases1\n",
    "  keep_prob = 0.5 if train else 1.0\n",
    "  relu = tf.nn.dropout(tf.nn.relu(layer1), keep_prob)\n",
    "  return tf.matmul(relu, weights2) + biases2\n",
    "\n",
    "\n",
    "def loss():\n",
    "  loss = tf.reduce_mean(tf.nn.softmax_cross_entropy_with_logits(logits, tf_train_labels))\n",
    "  regularizers = (tf.nn.l2_loss(weights1) + tf.nn.l2_loss(biases1) + tf.nn.l2_loss(weights2) + tf.nn.l2_loss(biases2))\n",
    "#   loss += 5e-4 * regularizers\n",
    "  return loss\n",
    "\n",
    "graph5 = tf.Graph()\n",
    "with graph5.as_default():\n",
    "\n",
    "  # Input data. For the training data, we use a placeholder that will be fed at run time with a training minibatch.\n",
    "  tf_train_dataset = tf.placeholder(tf.as_dtype(train_dataset.dtype), shape = (BATCH_SIZE, train_dataset.shape[1]))\n",
    "  tf_train_labels = tf.placeholder(tf.as_dtype(train_labels.dtype), shape = (BATCH_SIZE, train_labels.shape[1]))\n",
    "  tf_valid_dataset = tf.constant(valid_dataset)\n",
    "  tf_test_dataset = tf.constant(test_dataset)\n",
    "  \n",
    "  # Weights & Biases\n",
    "  input_size = train_dataset.shape[1]\n",
    "  hidden_size = 1028\n",
    "  output_size = train_labels.shape[1]\n",
    "  weights1 = tf.Variable(tf.truncated_normal([input_size, hidden_size]))\n",
    "  biases1 = tf.Variable(tf.truncated_normal([hidden_size], stddev=1.0))\n",
    "  weights2 = tf.Variable(tf.truncated_normal([hidden_size, output_size]))\n",
    "  biases2 = tf.Variable(tf.truncated_normal([output_size], stddev=1.0))\n",
    "\n",
    "  # Training computation.\n",
    "  logits = forward_prop(tf_train_dataset, train=True)\n",
    "  loss = loss()\n",
    "\n",
    "  # Optimizer.\n",
    "  optimizer = tf.train.GradientDescentOptimizer(0.2).minimize(loss)\n",
    "\n",
    "  # Predictions for the training, validation, and test data.\n",
    "  train_prediction = tf.nn.softmax(logits)\n",
    "  valid_prediction = tf.nn.softmax(forward_prop(tf_valid_dataset))\n",
    "  test_prediction = tf.nn.softmax(forward_prop(tf_test_dataset))\n",
    "\n",
    "print('network defined')\n",
    "\n",
    "num_training_examples = mini_train_dataset.shape[0]\n",
    "\n",
    "with tf.Session(graph=graph5) as session:\n",
    "  tf.initialize_all_variables().run()\n",
    "  \n",
    "  for step in range(3001):\n",
    "    offset = (step % 10 * BATCH_SIZE) % (num_training_examples - BATCH_SIZE)\n",
    "\n",
    "    batch_dataset = train_dataset[offset:(offset+BATCH_SIZE), :]\n",
    "    batch_labels = train_labels[offset:(offset+BATCH_SIZE), :]\n",
    "\n",
    "    feed_dict = {tf_train_dataset: batch_dataset, tf_train_labels: batch_labels}\n",
    "    _, l, predictions = session.run([optimizer, loss, train_prediction], feed_dict=feed_dict)\n",
    "    \n",
    "    if step % 500 == 0:\n",
    "      print(\"Minibatch loss at step %d: %f\" % (step, l))\n",
    "      print(\"Minibatch accuracy: %.1f%%\" % accuracy(predictions, batch_labels))\n",
    "      print(\"Validation accuracy: %.1f%%\" % accuracy(valid_prediction.eval(), valid_labels), \"\\n\")\n",
    "\n",
    "  print(\"Test accuracy: %.1f%%\" % accuracy(test_prediction.eval(), test_labels))"
   ]
  },
  {
   "cell_type": "markdown",
   "metadata": {
    "colab_type": "text",
    "id": "-b1hTz3VWZjw"
   },
   "source": [
    "---\n",
    "Problem 4\n",
    "---------\n",
    "\n",
    "Try to get the best performance you can using a multi-layer model! The best reported test accuracy using a deep network is [97.1%](http://yaroslavvb.blogspot.com/2011/09/notmnist-dataset.html?showComment=1391023266211#c8758720086795711595).\n",
    "\n",
    "One avenue you can explore is to add multiple layers.\n",
    "\n",
    "Another one is to use learning rate decay:\n",
    "\n",
    "    global_step = tf.Variable(0)  # count the number of steps taken.\n",
    "    learning_rate = tf.train.exponential_decay(0.5, global_step, ...)\n",
    "    optimizer = tf.train.GradientDescentOptimizer(learning_rate).minimize(loss, global_step=global_step)\n",
    " \n",
    " ---\n"
   ]
  },
  {
   "cell_type": "code",
   "execution_count": null,
   "metadata": {
    "collapsed": true
   },
   "outputs": [],
   "source": []
  }
 ],
 "metadata": {
  "colab": {
   "default_view": {},
   "name": "3_regularization.ipynb",
   "provenance": [],
   "version": "0.3.2",
   "views": {}
  },
  "kernelspec": {
   "display_name": "Python 2",
   "language": "python",
   "name": "python2"
  },
  "language_info": {
   "codemirror_mode": {
    "name": "ipython",
    "version": 2
   },
   "file_extension": ".py",
   "mimetype": "text/x-python",
   "name": "python",
   "nbconvert_exporter": "python",
   "pygments_lexer": "ipython2",
   "version": "2.7.11"
  }
 },
 "nbformat": 4,
 "nbformat_minor": 0
}
