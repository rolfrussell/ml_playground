{
 "cells": [
  {
   "cell_type": "markdown",
   "metadata": {
    "colab_type": "text",
    "id": "kR-4eNdK6lYS"
   },
   "source": [
    "Deep Learning\n",
    "=============\n",
    "\n",
    "Assignment 2\n",
    "------------\n",
    "\n",
    "Previously in `1_notmnist.ipynb`, we created a pickle with formatted datasets for training, development and testing on the [notMNIST dataset](http://yaroslavvb.blogspot.com/2011/09/notmnist-dataset.html).\n",
    "\n",
    "The goal of this assignment is to progressively train deeper and more accurate models using TensorFlow."
   ]
  },
  {
   "cell_type": "code",
   "execution_count": 25,
   "metadata": {
    "cellView": "both",
    "colab": {
     "autoexec": {
      "startup": false,
      "wait_interval": 0
     }
    },
    "colab_type": "code",
    "id": "JLpLa8Jt7Vu4"
   },
   "outputs": [],
   "source": [
    "# These are all the modules we'll be using later. Make sure you can import them\n",
    "# before proceeding further.\n",
    "from __future__ import print_function\n",
    "import numpy as np\n",
    "import tensorflow as tf\n",
    "from six.moves import cPickle as pickle\n",
    "from six.moves import range"
   ]
  },
  {
   "cell_type": "markdown",
   "metadata": {
    "colab_type": "text",
    "id": "1HrCK6e17WzV"
   },
   "source": [
    "First reload the data we generated in `1_notmnist.ipynb`."
   ]
  },
  {
   "cell_type": "code",
   "execution_count": 26,
   "metadata": {
    "cellView": "both",
    "colab": {
     "autoexec": {
      "startup": false,
      "wait_interval": 0
     },
     "output_extras": [
      {
       "item_id": 1
      }
     ]
    },
    "colab_type": "code",
    "executionInfo": {
     "elapsed": 19456,
     "status": "ok",
     "timestamp": 1449847956073,
     "user": {
      "color": "",
      "displayName": "",
      "isAnonymous": false,
      "isMe": true,
      "permissionId": "",
      "photoUrl": "",
      "sessionId": "0",
      "userId": ""
     },
     "user_tz": 480
    },
    "id": "y3-cj1bpmuxc",
    "outputId": "0ddb1607-1fc4-4ddb-de28-6c7ab7fb0c33"
   },
   "outputs": [
    {
     "name": "stdout",
     "output_type": "stream",
     "text": [
      "Training set (200000, 28, 28) (200000,)\n",
      "Validation set (10000, 28, 28) (10000,)\n",
      "Test set (10000, 28, 28) (10000,)\n"
     ]
    }
   ],
   "source": [
    "pickle_file = 'notMNIST.pickle'\n",
    "\n",
    "with open(pickle_file, 'rb') as f:\n",
    "  save = pickle.load(f)\n",
    "  train_dataset = save['train_dataset']\n",
    "  train_labels = save['train_labels']\n",
    "  valid_dataset = save['valid_dataset']\n",
    "  valid_labels = save['valid_labels']\n",
    "  test_dataset = save['test_dataset']\n",
    "  test_labels = save['test_labels']\n",
    "  del save  # hint to help gc free up memory\n",
    "  print('Training set', train_dataset.shape, train_labels.shape)\n",
    "  print('Validation set', valid_dataset.shape, valid_labels.shape)\n",
    "  print('Test set', test_dataset.shape, test_labels.shape)"
   ]
  },
  {
   "cell_type": "markdown",
   "metadata": {
    "colab_type": "text",
    "id": "L7aHrm6nGDMB"
   },
   "source": [
    "Reformat into a shape that's more adapted to the models we're going to train:\n",
    "- data as a flat matrix,\n",
    "- labels as float 1-hot encodings."
   ]
  },
  {
   "cell_type": "code",
   "execution_count": 27,
   "metadata": {
    "cellView": "both",
    "colab": {
     "autoexec": {
      "startup": false,
      "wait_interval": 0
     },
     "output_extras": [
      {
       "item_id": 1
      }
     ]
    },
    "colab_type": "code",
    "executionInfo": {
     "elapsed": 19723,
     "status": "ok",
     "timestamp": 1449847956364,
     "user": {
      "color": "",
      "displayName": "",
      "isAnonymous": false,
      "isMe": true,
      "permissionId": "",
      "photoUrl": "",
      "sessionId": "0",
      "userId": ""
     },
     "user_tz": 480
    },
    "id": "IRSyYiIIGIzS",
    "outputId": "2ba0fc75-1487-4ace-a562-cf81cae82793"
   },
   "outputs": [
    {
     "name": "stdout",
     "output_type": "stream",
     "text": [
      "Training set (200000, 784) (200000, 10)\n",
      "Validation set (10000, 784) (10000, 10)\n",
      "Test set (10000, 784) (10000, 10)\n"
     ]
    }
   ],
   "source": [
    "image_size = 28\n",
    "num_labels = 10\n",
    "\n",
    "def reformat(dataset, labels):\n",
    "  dataset = dataset.reshape((-1, image_size * image_size)).astype(np.float32)\n",
    "  # Map 0 to [1.0, 0.0, 0.0 ...], 1 to [0.0, 1.0, 0.0 ...]\n",
    "  labels = (np.arange(num_labels) == labels[:,None]).astype(np.float32)\n",
    "  return dataset, labels\n",
    "train_dataset, train_labels = reformat(train_dataset, train_labels)\n",
    "valid_dataset, valid_labels = reformat(valid_dataset, valid_labels)\n",
    "test_dataset, test_labels = reformat(test_dataset, test_labels)\n",
    "print('Training set', train_dataset.shape, train_labels.shape)\n",
    "print('Validation set', valid_dataset.shape, valid_labels.shape)\n",
    "print('Test set', test_dataset.shape, test_labels.shape)"
   ]
  },
  {
   "cell_type": "markdown",
   "metadata": {
    "colab_type": "text",
    "id": "nCLVqyQ5vPPH"
   },
   "source": [
    "We're first going to train a multinomial logistic regression using simple gradient descent.\n",
    "\n",
    "TensorFlow works like this:\n",
    "* First you describe the computation that you want to see performed: what the inputs, the variables, and the operations look like. These get created as nodes over a computation graph. This description is all contained within the block below:\n",
    "\n",
    "      with graph.as_default():\n",
    "          ...\n",
    "\n",
    "* Then you can run the operations on this graph as many times as you want by calling `session.run()`, providing it outputs to fetch from the graph that get returned. This runtime operation is all contained in the block below:\n",
    "\n",
    "      with tf.Session(graph=graph) as session:\n",
    "          ...\n",
    "\n",
    "Let's load all the data into TensorFlow and build the computation graph corresponding to our training:"
   ]
  },
  {
   "cell_type": "code",
   "execution_count": 29,
   "metadata": {
    "cellView": "both",
    "colab": {
     "autoexec": {
      "startup": false,
      "wait_interval": 0
     }
    },
    "colab_type": "code",
    "id": "Nfv39qvtvOl_"
   },
   "outputs": [
    {
     "name": "stdout",
     "output_type": "stream",
     "text": [
      "got here\n"
     ]
    }
   ],
   "source": [
    "# With gradient descent training, even this much data is prohibitive.\n",
    "# Subset the training data for faster turnaround.\n",
    "train_subset = 10000\n",
    "\n",
    "graph = tf.Graph()\n",
    "with graph.as_default():\n",
    "\n",
    "  # Input data.\n",
    "  # Load the training, validation and test data into constants that are\n",
    "  # attached to the graph.\n",
    "  tf_train_dataset = tf.constant(train_dataset[:train_subset, :])\n",
    "  tf_train_labels = tf.constant(train_labels[:train_subset])\n",
    "  tf_valid_dataset = tf.constant(valid_dataset)\n",
    "  tf_test_dataset = tf.constant(test_dataset)\n",
    "  \n",
    "  # Variables.\n",
    "  # These are the parameters that we are going to be training. The weight\n",
    "  # matrix will be initialized using random values following a (truncated)\n",
    "  # normal distribution. The biases get initialized to zero.\n",
    "  weights = tf.Variable(tf.truncated_normal([image_size * image_size, num_labels]))\n",
    "  biases = tf.Variable(tf.zeros([num_labels]))\n",
    "  \n",
    "  # Training computation.\n",
    "  # We multiply the inputs with the weight matrix, and add biases. We compute\n",
    "  # the softmax and cross-entropy (it's one operation in TensorFlow, because\n",
    "  # it's very common, and it can be optimized). We take the average of this\n",
    "  # cross-entropy across all training examples: that's our loss.\n",
    "  logits = tf.matmul(tf_train_dataset, weights) + biases\n",
    "  loss = tf.reduce_mean(tf.nn.softmax_cross_entropy_with_logits(logits, tf_train_labels))\n",
    "  \n",
    "  # Optimizer.\n",
    "  # We are going to find the minimum of this loss using gradient descent.\n",
    "  optimizer = tf.train.GradientDescentOptimizer(0.5).minimize(loss)\n",
    "  \n",
    "  # Predictions for the training, validation, and test data.\n",
    "  # These are not part of training, but merely here so that we can report\n",
    "  # accuracy figures as we train.\n",
    "  train_prediction = tf.nn.softmax(logits)\n",
    "  valid_prediction = tf.nn.softmax(tf.matmul(tf_valid_dataset, weights) + biases)\n",
    "  test_prediction = tf.nn.softmax(tf.matmul(tf_test_dataset, weights) + biases)\n",
    "\n",
    "print('got here')"
   ]
  },
  {
   "cell_type": "markdown",
   "metadata": {
    "colab_type": "text",
    "id": "KQcL4uqISHjP"
   },
   "source": [
    "Let's run this computation and iterate:"
   ]
  },
  {
   "cell_type": "code",
   "execution_count": 30,
   "metadata": {
    "cellView": "both",
    "colab": {
     "autoexec": {
      "startup": false,
      "wait_interval": 0
     },
     "output_extras": [
      {
       "item_id": 9
      }
     ]
    },
    "colab_type": "code",
    "executionInfo": {
     "elapsed": 57454,
     "status": "ok",
     "timestamp": 1449847994134,
     "user": {
      "color": "",
      "displayName": "",
      "isAnonymous": false,
      "isMe": true,
      "permissionId": "",
      "photoUrl": "",
      "sessionId": "0",
      "userId": ""
     },
     "user_tz": 480
    },
    "id": "z2cjdenH869W",
    "outputId": "4c037ba1-b526-4d8e-e632-91e2a0333267"
   },
   "outputs": [
    {
     "name": "stdout",
     "output_type": "stream",
     "text": [
      "Initialized\n",
      "Loss at step 0: 20.415340\n",
      "Training accuracy: 11.0%\n",
      "Validation accuracy: 12.8%\n",
      "Loss at step 100: 2.323436\n",
      "Training accuracy: 71.0%\n",
      "Validation accuracy: 69.8%\n",
      "Loss at step 200: 1.860098\n",
      "Training accuracy: 74.8%\n",
      "Validation accuracy: 72.8%\n",
      "Loss at step 300: 1.610386\n",
      "Training accuracy: 76.2%\n",
      "Validation accuracy: 73.8%\n",
      "Loss at step 400: 1.442542\n",
      "Training accuracy: 77.0%\n",
      "Validation accuracy: 74.2%\n",
      "Loss at step 500: 1.320233\n",
      "Training accuracy: 77.6%\n",
      "Validation accuracy: 74.4%\n",
      "Loss at step 600: 1.225521\n",
      "Training accuracy: 78.2%\n",
      "Validation accuracy: 74.6%\n",
      "Loss at step 700: 1.148918\n",
      "Training accuracy: 78.8%\n",
      "Validation accuracy: 74.8%\n",
      "Loss at step 800: 1.085106\n",
      "Training accuracy: 79.1%\n",
      "Validation accuracy: 75.0%\n",
      "Test accuracy: 82.6%\n"
     ]
    }
   ],
   "source": [
    "num_steps = 801\n",
    "\n",
    "def accuracy(predictions, labels):\n",
    "  return (100.0 * np.sum(np.argmax(predictions, 1) == np.argmax(labels, 1)) / predictions.shape[0])\n",
    "\n",
    "with tf.Session(graph=graph) as session:\n",
    "  # This is a one-time operation which ensures the parameters get initialized as\n",
    "  # we described in the graph: random weights for the matrix, zeros for the\n",
    "  # biases. \n",
    "  tf.initialize_all_variables().run()\n",
    "  print('Initialized')\n",
    "  for step in range(num_steps):\n",
    "    # Run the computations. We tell .run() that we want to run the optimizer,\n",
    "    # and get the loss value and the training predictions returned as numpy\n",
    "    # arrays.\n",
    "    _, l, predictions = session.run([optimizer, loss, train_prediction])\n",
    "    if (step % 100 == 0):\n",
    "      print('Loss at step %d: %f' % (step, l))\n",
    "      print('Training accuracy: %.1f%%' % accuracy(predictions, train_labels[:train_subset, :]))\n",
    "      # Calling .eval() on valid_prediction is basically like calling run(), but\n",
    "      # just to get that one numpy array. Note that it recomputes all its graph\n",
    "      # dependencies.\n",
    "      print('Validation accuracy: %.1f%%' % accuracy(valid_prediction.eval(), valid_labels))\n",
    "  print('Test accuracy: %.1f%%' % accuracy(test_prediction.eval(), test_labels))"
   ]
  },
  {
   "cell_type": "markdown",
   "metadata": {
    "colab_type": "text",
    "id": "x68f-hxRGm3H"
   },
   "source": [
    "Let's now switch to stochastic gradient descent training instead, which is much faster.\n",
    "\n",
    "The graph will be similar, except that instead of holding all the training data into a constant node, we create a `Placeholder` node which will be fed actual data at every call of `session.run()`."
   ]
  },
  {
   "cell_type": "code",
   "execution_count": 47,
   "metadata": {
    "cellView": "both",
    "colab": {
     "autoexec": {
      "startup": false,
      "wait_interval": 0
     }
    },
    "colab_type": "code",
    "id": "qhPMzWYRGrzM"
   },
   "outputs": [
    {
     "name": "stdout",
     "output_type": "stream",
     "text": [
      "got here\n"
     ]
    }
   ],
   "source": [
    "batch_size = 128\n",
    "\n",
    "graph = tf.Graph()\n",
    "with graph.as_default():\n",
    "\n",
    "  # Input data. For the training data, we use a placeholder that will be fed\n",
    "  # at run time with a training minibatch.\n",
    "  tf_train_dataset = tf.placeholder(tf.float32, shape=(batch_size, image_size * image_size))\n",
    "  tf_train_labels = tf.placeholder(tf.float32, shape=(batch_size, num_labels))\n",
    "  tf_valid_dataset = tf.constant(valid_dataset)\n",
    "  tf_test_dataset = tf.constant(test_dataset)\n",
    "  \n",
    "  # Variables.\n",
    "  weights = tf.Variable(tf.truncated_normal([image_size * image_size, num_labels]))\n",
    "  biases = tf.Variable(tf.zeros([num_labels]))\n",
    "  \n",
    "  # Training computation.\n",
    "  logits = tf.matmul(tf_train_dataset, weights) + biases\n",
    "  loss = tf.reduce_mean(tf.nn.softmax_cross_entropy_with_logits(logits, tf_train_labels))\n",
    "  \n",
    "  # Optimizer.\n",
    "  optimizer = tf.train.GradientDescentOptimizer(0.5).minimize(loss)\n",
    "  \n",
    "  # Predictions for the training, validation, and test data.\n",
    "  train_prediction = tf.nn.softmax(logits)\n",
    "  valid_prediction = tf.nn.softmax(tf.matmul(tf_valid_dataset, weights) + biases)\n",
    "  test_prediction = tf.nn.softmax(tf.matmul(tf_test_dataset, weights) + biases)\n",
    "    \n",
    "print('got here')"
   ]
  },
  {
   "cell_type": "markdown",
   "metadata": {
    "colab_type": "text",
    "id": "XmVZESmtG4JH"
   },
   "source": [
    "Let's run it:"
   ]
  },
  {
   "cell_type": "code",
   "execution_count": 32,
   "metadata": {
    "cellView": "both",
    "colab": {
     "autoexec": {
      "startup": false,
      "wait_interval": 0
     },
     "output_extras": [
      {
       "item_id": 6
      }
     ]
    },
    "colab_type": "code",
    "executionInfo": {
     "elapsed": 66292,
     "status": "ok",
     "timestamp": 1449848003013,
     "user": {
      "color": "",
      "displayName": "",
      "isAnonymous": false,
      "isMe": true,
      "permissionId": "",
      "photoUrl": "",
      "sessionId": "0",
      "userId": ""
     },
     "user_tz": 480
    },
    "id": "FoF91pknG_YW",
    "outputId": "d255c80e-954d-4183-ca1c-c7333ce91d0a"
   },
   "outputs": [
    {
     "name": "stdout",
     "output_type": "stream",
     "text": [
      "Initialized\n",
      "Minibatch loss at step 0: 20.784462\n",
      "Minibatch accuracy: 3.9%\n",
      "Validation accuracy: 5.8%\n",
      "Minibatch loss at step 500: 1.148882\n",
      "Minibatch accuracy: 81.2%\n",
      "Validation accuracy: 75.2%\n",
      "Minibatch loss at step 1000: 1.359468\n",
      "Minibatch accuracy: 81.2%\n",
      "Validation accuracy: 76.4%\n",
      "Minibatch loss at step 1500: 0.813572\n",
      "Minibatch accuracy: 82.8%\n",
      "Validation accuracy: 77.5%\n",
      "Minibatch loss at step 2000: 0.844316\n",
      "Minibatch accuracy: 82.0%\n",
      "Validation accuracy: 77.5%\n",
      "Minibatch loss at step 2500: 1.049758\n",
      "Minibatch accuracy: 76.6%\n",
      "Validation accuracy: 78.5%\n",
      "Minibatch loss at step 3000: 1.045930\n",
      "Minibatch accuracy: 76.6%\n",
      "Validation accuracy: 78.7%\n",
      "Test accuracy: 86.5%\n"
     ]
    }
   ],
   "source": [
    "num_steps = 3001\n",
    "\n",
    "with tf.Session(graph=graph) as session:\n",
    "  tf.initialize_all_variables().run()\n",
    "  print(\"Initialized\")\n",
    "  for step in range(num_steps):\n",
    "    # Pick an offset within the training data, which has been randomized.\n",
    "    # Note: we could use better randomization across epochs.\n",
    "    offset = (step * batch_size) % (train_labels.shape[0] - batch_size)\n",
    "    # Generate a minibatch.\n",
    "    batch_data = train_dataset[offset:(offset + batch_size), :]\n",
    "    batch_labels = train_labels[offset:(offset + batch_size), :]\n",
    "    # Prepare a dictionary telling the session where to feed the minibatch.\n",
    "    # The key of the dictionary is the placeholder node of the graph to be fed,\n",
    "    # and the value is the numpy array to feed to it.\n",
    "    feed_dict = {tf_train_dataset : batch_data, tf_train_labels : batch_labels}\n",
    "    _, l, predictions = session.run([optimizer, loss, train_prediction], feed_dict=feed_dict)\n",
    "    if (step % 500 == 0):\n",
    "      print(\"Minibatch loss at step %d: %f\" % (step, l))\n",
    "      print(\"Minibatch accuracy: %.1f%%\" % accuracy(predictions, batch_labels))\n",
    "      print(\"Validation accuracy: %.1f%%\" % accuracy(valid_prediction.eval(), valid_labels))\n",
    "  print(\"Test accuracy: %.1f%%\" % accuracy(test_prediction.eval(), test_labels))"
   ]
  },
  {
   "cell_type": "markdown",
   "metadata": {
    "colab_type": "text",
    "id": "7omWxtvLLxik"
   },
   "source": [
    "---\n",
    "Problem\n",
    "-------\n",
    "\n",
    "Turn the logistic regression example with SGD into a 1-hidden layer neural network with rectified linear units [nn.relu()](https://www.tensorflow.org/versions/r0.7/api_docs/python/nn.html#relu) and 1024 hidden nodes. This model should improve your validation / test accuracy.\n",
    "\n",
    "---"
   ]
  },
  {
   "cell_type": "code",
   "execution_count": 134,
   "metadata": {},
   "outputs": [
    {
     "name": "stdout",
     "output_type": "stream",
     "text": [
      "got here2\n"
     ]
    }
   ],
   "source": [
    "# Define 1-hidden layer neural network with rectified linear units nn.relu() and 1024 hidden nodes\n",
    "\n",
    "\n",
    "def forward_prop(dataset, weights1, biases1, weights2, biases2):\n",
    "  calc1_output = tf.matmul(dataset, weights1) + biases1\n",
    "  relu_output = tf.nn.relu(calc1_output)\n",
    "  return tf.matmul(relu_output, weights2) + biases2\n",
    "\n",
    "\n",
    "batch_size = 128\n",
    "\n",
    "graph2 = tf.Graph()\n",
    "with graph2.as_default():\n",
    "\n",
    "  # Input data. For the training data, we use a placeholder that will be fed at run time with a training minibatch.\n",
    "  tf_train_dataset = tf.placeholder(tf.as_dtype(train_dataset.dtype), shape = (batch_size, train_dataset.shape[1]))\n",
    "  tf_train_labels = tf.placeholder(tf.as_dtype(train_labels.dtype), shape = (batch_size, train_labels.shape[1]))\n",
    "  tf_valid_dataset = tf.constant(valid_dataset)\n",
    "  tf_test_dataset = tf.constant(test_dataset)\n",
    "  \n",
    "  # Variables.\n",
    "  input_size = train_dataset.shape[1]\n",
    "  hidden_size = 1028\n",
    "  output_size = train_labels.shape[1]\n",
    "  weights1 = tf.Variable(tf.truncated_normal([input_size, hidden_size]))\n",
    "#   biases1 = tf.Variable(tf.zeros([hidden_size]))\n",
    "  biases1 = tf.Variable(tf.truncated_normal([hidden_size], stddev=1.0))\n",
    "  weights2 = tf.Variable(tf.truncated_normal([hidden_size, output_size]))\n",
    "#   biases2 = tf.Variable(tf.zeros([output_size]))\n",
    "  biases2 = tf.Variable(tf.truncated_normal([output_size], stddev=1.0))\n",
    "  \n",
    "  # Decay rate\n",
    "#   global_step = tf.Variable(0)\n",
    "#   learning_rate = tf.train.exponential_decay(\n",
    "#     0.2,                        # Base learning rate.\n",
    "#     global_step * batch_size,   # Current index into the dataset.\n",
    "#     1000,                       # Decay step.\n",
    "#     0.96,                        # Decay rate.\n",
    "#     staircase=True)\n",
    "#   optimizer = tf.train.GradientDescentOptimizer(learning_rate).minimize(loss, global_step=global_step)\n",
    "\n",
    "  # Training computation.\n",
    "  logits = forward_prop(tf_train_dataset, weights1, biases1, weights2, biases2)\n",
    "  loss = tf.reduce_mean(tf.nn.softmax_cross_entropy_with_logits(logits, tf_train_labels))\n",
    "    \n",
    "  # Optimizer.\n",
    "  optimizer = tf.train.GradientDescentOptimizer(0.2).minimize(loss)\n",
    "\n",
    "  # Predictions for the training, validation, and test data.\n",
    "  train_prediction = tf.nn.softmax(logits)\n",
    "  valid_prediction = tf.nn.softmax(forward_prop(tf_valid_dataset, weights1, biases1, weights2, biases2))\n",
    "  test_prediction = tf.nn.softmax(forward_prop(tf_test_dataset, weights1, biases1, weights2, biases2))\n",
    "    \n",
    "print('got here2')"
   ]
  },
  {
   "cell_type": "code",
   "execution_count": 135,
   "metadata": {
    "scrolled": true
   },
   "outputs": [
    {
     "name": "stdout",
     "output_type": "stream",
     "text": [
      "Minibatch loss at step 0: 297.172424\n",
      "Minibatch accuracy: 13.3%\n",
      "Validation accuracy: 25.3% \n",
      "\n",
      "Minibatch loss at step 500: 20.524803\n",
      "Minibatch accuracy: 84.4%\n",
      "Validation accuracy: 81.5% \n",
      "\n",
      "Minibatch loss at step 1000: 16.297840\n",
      "Minibatch accuracy: 78.9%\n",
      "Validation accuracy: 82.9% \n",
      "\n",
      "Minibatch loss at step 1500: 4.893043\n",
      "Minibatch accuracy: 92.2%\n",
      "Validation accuracy: 82.5% \n",
      "\n",
      "Minibatch loss at step 2000: 4.767471\n",
      "Minibatch accuracy: 84.4%\n",
      "Validation accuracy: 83.7% \n",
      "\n",
      "Minibatch loss at step 2500: 6.136764\n",
      "Minibatch accuracy: 85.2%\n",
      "Validation accuracy: 84.3% \n",
      "\n",
      "Minibatch loss at step 3000: 3.977015\n",
      "Minibatch accuracy: 83.6%\n",
      "Validation accuracy: 83.4% \n",
      "\n",
      "Test accuracy: 90.2%\n"
     ]
    }
   ],
   "source": [
    "# Run 1-hidden layer neural network with rectified linear units nn.relu() and 1024 hidden nodes\n",
    "\n",
    "num_training_examples = train_dataset.shape[0]\n",
    "\n",
    "with tf.Session(graph=graph2) as session:\n",
    "  tf.initialize_all_variables().run()\n",
    "  \n",
    "  for step in range(3001):\n",
    "    offset = (step * batch_size) % (num_training_examples - batch_size)\n",
    "\n",
    "    batch_dataset = train_dataset[offset:(offset+batch_size), :]\n",
    "    batch_labels = train_labels[offset:(offset+batch_size), :]\n",
    "\n",
    "    feed_dict = {tf_train_dataset: batch_dataset, tf_train_labels: batch_labels}\n",
    "    _, l, predictions = session.run([optimizer, loss, train_prediction], feed_dict=feed_dict)\n",
    "    \n",
    "    if step % 500 == 0:\n",
    "      print(\"Minibatch loss at step %d: %f\" % (step, l))\n",
    "      print(\"Minibatch accuracy: %.1f%%\" % accuracy(predictions, batch_labels))\n",
    "      print(\"Validation accuracy: %.1f%%\" % accuracy(valid_prediction.eval(), valid_labels), \"\\n\")\n",
    "\n",
    "  print(\"Test accuracy: %.1f%%\" % accuracy(test_prediction.eval(), test_labels))\n"
   ]
  },
  {
   "cell_type": "markdown",
   "metadata": {
    "collapsed": true
   },
   "source": [
    "## 1-layer network\n",
    "\n",
    "Minibatch loss at step %d: %f 0 17.5934\n",
    "Minibatch accuracy: %.1f%% 11.71875\n",
    "Validation accuracy: %.1f%% 11.51\n",
    "\n",
    "Minibatch loss at step %d: %f 500 1.17863\n",
    "Minibatch accuracy: %.1f%% 79.6875\n",
    "Validation accuracy: %.1f%% 75.3\n",
    "\n",
    "Minibatch loss at step %d: %f 1000 1.43065\n",
    "Minibatch accuracy: %.1f%% 72.65625\n",
    "Validation accuracy: %.1f%% 76.27\n",
    "\n",
    "Minibatch loss at step %d: %f 1500 0.765105\n",
    "Minibatch accuracy: %.1f%% 82.8125\n",
    "Validation accuracy: %.1f%% 76.33\n",
    "\n",
    "Minibatch loss at step %d: %f 2000 0.897331\n",
    "Minibatch accuracy: %.1f%% 78.90625\n",
    "Validation accuracy: %.1f%% 77.18\n",
    "\n",
    "Minibatch loss at step %d: %f 2500 1.05324\n",
    "Minibatch accuracy: %.1f%% 75.78125\n",
    "Validation accuracy: %.1f%% 77.96\n",
    "\n",
    "Minibatch loss at step %d: %f 3000 1.0329\n",
    "Minibatch accuracy: %.1f%% 81.25\n",
    "Validation accuracy: %.1f%% 78.66\n",
    "\n",
    "Test accuracy: 86.0%\n",
    "\n",
    "\n",
    "\n",
    "\n",
    "## 1-hidden layer neural network with rectified linear units\n",
    "## learning rate 0.5\n",
    "\n",
    "Minibatch loss at step %d: %f 0 472.167\n",
    "Minibatch accuracy: %.1f%% 10.9375\n",
    "Validation accuracy: %.1f%% 29.96 \n",
    "\n",
    "Minibatch loss at step %d: %f 500 25.001\n",
    "Minibatch accuracy: %.1f%% 76.5625\n",
    "Validation accuracy: %.1f%% 79.47 \n",
    "\n",
    "Minibatch loss at step %d: %f 1000 8.37329\n",
    "Minibatch accuracy: %.1f%% 79.6875\n",
    "Validation accuracy: %.1f%% 81.65 \n",
    "\n",
    "Minibatch loss at step %d: %f 1500 6.6643\n",
    "Minibatch accuracy: %.1f%% 87.5\n",
    "Validation accuracy: %.1f%% 79.88 \n",
    "\n",
    "Minibatch loss at step %d: %f 2000 3.36347\n",
    "Minibatch accuracy: %.1f%% 87.5\n",
    "Validation accuracy: %.1f%% 81.19 \n",
    "\n",
    "Minibatch loss at step %d: %f 2500 2.70563\n",
    "Minibatch accuracy: %.1f%% 84.375\n",
    "Validation accuracy: %.1f%% 81.87 \n",
    "\n",
    "Minibatch loss at step %d: %f 3000 2.23426\n",
    "Minibatch accuracy: %.1f%% 79.6875\n",
    "Validation accuracy: %.1f%% 81.88 \n",
    "\n",
    "Test accuracy: 89.3%\n",
    "\n",
    "\n",
    "\n",
    "## 1-hidden layer neural network with rectified linear units\n",
    "## learning rate 0.2\n",
    "\n",
    "Minibatch loss at step 0: 330.778046\n",
    "Minibatch accuracy: 22.7%\n",
    "Validation accuracy: 29.2% \n",
    "\n",
    "Minibatch loss at step 500: 12.663446\n",
    "Minibatch accuracy: 85.9%\n",
    "Validation accuracy: 81.0% \n",
    "\n",
    "Minibatch loss at step 1000: 10.323658\n",
    "Minibatch accuracy: 79.7%\n",
    "Validation accuracy: 82.5% \n",
    "\n",
    "Minibatch loss at step 1500: 8.173533\n",
    "Minibatch accuracy: 89.8%\n",
    "Validation accuracy: 83.5% \n",
    "\n",
    "Minibatch loss at step 2000: 5.301463\n",
    "Minibatch accuracy: 91.4%\n",
    "Validation accuracy: 83.6% \n",
    "\n",
    "Minibatch loss at step 2500: 5.601147\n",
    "Minibatch accuracy: 85.2%\n",
    "Validation accuracy: 83.7% \n",
    "\n",
    "Minibatch loss at step 3000: 4.422043\n",
    "Minibatch accuracy: 79.7%\n",
    "Validation accuracy: 84.3% \n",
    "\n",
    "Test accuracy: 91.2%\n",
    "\n",
    "\n",
    "\n",
    "\n",
    "## 1-hidden layer neural network with rectified linear units\n",
    "## learning rate 0.2 & AdagradOptimizer\n",
    "\n",
    "Minibatch loss at step 0: 404.382202\n",
    "Minibatch accuracy: 15.6%\n",
    "Validation accuracy: 41.0% \n",
    "\n",
    "Minibatch loss at step 500: 11.391366\n",
    "Minibatch accuracy: 84.4%\n",
    "Validation accuracy: 81.3% \n",
    "\n",
    "Minibatch loss at step 1000: 11.932853\n",
    "Minibatch accuracy: 76.6%\n",
    "Validation accuracy: 81.6% \n",
    "\n",
    "Minibatch loss at step 1500: 7.554851\n",
    "Minibatch accuracy: 89.8%\n",
    "Validation accuracy: 82.6% \n",
    "\n",
    "Minibatch loss at step 2000: 5.627324\n",
    "Minibatch accuracy: 84.4%\n",
    "Validation accuracy: 83.0% \n",
    "\n",
    "Minibatch loss at step 2500: 5.328107\n",
    "Minibatch accuracy: 87.5%\n",
    "Validation accuracy: 83.9% \n",
    "\n",
    "Minibatch loss at step 3000: 3.800861\n",
    "Minibatch accuracy: 87.5%\n",
    "Validation accuracy: 83.5% \n",
    "\n",
    "Test accuracy: 90.7%"
   ]
  }
 ],
 "metadata": {
  "celltoolbar": "Raw Cell Format",
  "colab": {
   "default_view": {},
   "name": "2_fullyconnected.ipynb",
   "provenance": [],
   "version": "0.3.2",
   "views": {}
  },
  "kernelspec": {
   "display_name": "Python 3",
   "language": "python",
   "name": "python3"
  },
  "language_info": {
   "codemirror_mode": {
    "name": "ipython",
    "version": 3
   },
   "file_extension": ".py",
   "mimetype": "text/x-python",
   "name": "python",
   "nbconvert_exporter": "python",
   "pygments_lexer": "ipython3",
   "version": "3.6.5"
  }
 },
 "nbformat": 4,
 "nbformat_minor": 1
}
