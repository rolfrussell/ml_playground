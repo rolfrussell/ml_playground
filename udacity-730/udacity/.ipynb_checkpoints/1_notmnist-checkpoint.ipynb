{
 "cells": [
  {
   "cell_type": "markdown",
   "metadata": {
    "colab_type": "text",
    "id": "5hIbr52I7Z7U"
   },
   "source": [
    "Deep Learning\n",
    "=============\n",
    "\n",
    "Assignment 1\n",
    "------------\n",
    "\n",
    "The objective of this assignment is to learn about simple data curation practices, and familiarize you with some of the data we'll be reusing later.\n",
    "\n",
    "This notebook uses the [notMNIST](http://yaroslavvb.blogspot.com/2011/09/notmnist-dataset.html) dataset to be used with python experiments. This dataset is designed to look like the classic [MNIST](http://yann.lecun.com/exdb/mnist/) dataset, while looking a little more like real data: it's a harder task, and the data is a lot less 'clean' than MNIST."
   ]
  },
  {
   "cell_type": "code",
   "execution_count": 3,
   "metadata": {
    "cellView": "both",
    "colab": {
     "autoexec": {
      "startup": false,
      "wait_interval": 0
     }
    },
    "colab_type": "code",
    "collapsed": false,
    "id": "apJbCsBHl-2A"
   },
   "outputs": [],
   "source": [
    "# These are all the modules we'll be using later. Make sure you can import them\n",
    "# before proceeding further.\n",
    "from __future__ import print_function\n",
    "import matplotlib.pyplot as plt\n",
    "import numpy as np\n",
    "import os\n",
    "import sys\n",
    "import tarfile\n",
    "from IPython.display import display, Image\n",
    "from scipy import ndimage\n",
    "from sklearn.linear_model import LogisticRegression\n",
    "from six.moves.urllib.request import urlretrieve\n",
    "from six.moves import cPickle as pickle\n",
    "\n",
    "# Config the matlotlib backend as plotting inline in IPython\n",
    "%matplotlib inline"
   ]
  },
  {
   "cell_type": "markdown",
   "metadata": {
    "colab_type": "text",
    "id": "jNWGtZaXn-5j"
   },
   "source": [
    "First, we'll download the dataset to our local machine. The data consists of characters rendered in a variety of fonts on a 28x28 image. The labels are limited to 'A' through 'J' (10 classes). The training set has about 500k and the testset 19000 labelled examples. Given these sizes, it should be possible to train models quickly on any machine."
   ]
  },
  {
   "cell_type": "code",
   "execution_count": 8,
   "metadata": {
    "cellView": "both",
    "colab": {
     "autoexec": {
      "startup": false,
      "wait_interval": 0
     },
     "output_extras": [
      {
       "item_id": 1
      }
     ]
    },
    "colab_type": "code",
    "collapsed": false,
    "executionInfo": {
     "elapsed": 186058,
     "status": "ok",
     "timestamp": 1444485672507,
     "user": {
      "color": "#1FA15D",
      "displayName": "Vincent Vanhoucke",
      "isAnonymous": false,
      "isMe": true,
      "permissionId": "05076109866853157986",
      "photoUrl": "//lh6.googleusercontent.com/-cCJa7dTDcgQ/AAAAAAAAAAI/AAAAAAAACgw/r2EZ_8oYer4/s50-c-k-no/photo.jpg",
      "sessionId": "2a0a5e044bb03b66",
      "userId": "102167687554210253930"
     },
     "user_tz": 420
    },
    "id": "EYRJ4ICW6-da",
    "outputId": "0d0f85df-155f-4a89-8e7e-ee32df36ec8d"
   },
   "outputs": [
    {
     "name": "stdout",
     "output_type": "stream",
     "text": [
      "Found and verified notMNIST_large.tar.gz\n",
      "Found and verified notMNIST_small.tar.gz\n"
     ]
    }
   ],
   "source": [
    "url = 'http://commondatastorage.googleapis.com/books1000/'\n",
    "last_percent_reported = None\n",
    "\n",
    "def download_progress_hook(count, blockSize, totalSize):\n",
    "  \"\"\"A hook to report the progress of a download. This is mostly intended for users with\n",
    "  slow internet connections. Reports every 1% change in download progress.\n",
    "  \"\"\"\n",
    "  global last_percent_reported\n",
    "  percent = int(count * blockSize * 100 / totalSize)\n",
    "\n",
    "  if last_percent_reported != percent:\n",
    "    if percent % 5 == 0:\n",
    "      sys.stdout.write(\"%s%%\" % percent)\n",
    "      sys.stdout.flush()\n",
    "    else:\n",
    "      sys.stdout.write(\".\")\n",
    "      sys.stdout.flush()\n",
    "      \n",
    "    last_percent_reported = percent\n",
    "        \n",
    "def maybe_download(filename, expected_bytes, force=False):\n",
    "  \"\"\"Download a file if not present, and make sure it's the right size.\"\"\"\n",
    "  if force or not os.path.exists(filename):\n",
    "    print('Attempting to download:', filename) \n",
    "    filename, _ = urlretrieve(url + filename, filename, reporthook=download_progress_hook)\n",
    "    print('\\nDownload Complete!')\n",
    "  statinfo = os.stat(filename)\n",
    "  if statinfo.st_size == expected_bytes:\n",
    "    print('Found and verified', filename)\n",
    "  else:\n",
    "    raise Exception(\n",
    "      'Failed to verify ' + filename + '. Can you get to it with a browser?')\n",
    "  return filename\n",
    "\n",
    "train_filename = maybe_download('notMNIST_large.tar.gz', 247336696)\n",
    "test_filename = maybe_download('notMNIST_small.tar.gz', 8458043)"
   ]
  },
  {
   "cell_type": "markdown",
   "metadata": {
    "colab_type": "text",
    "id": "cC3p0oEyF8QT"
   },
   "source": [
    "Extract the dataset from the compressed .tar.gz file.\n",
    "This should give you a set of directories, labelled A through J."
   ]
  },
  {
   "cell_type": "code",
   "execution_count": 9,
   "metadata": {
    "cellView": "both",
    "colab": {
     "autoexec": {
      "startup": false,
      "wait_interval": 0
     },
     "output_extras": [
      {
       "item_id": 1
      }
     ]
    },
    "colab_type": "code",
    "collapsed": false,
    "executionInfo": {
     "elapsed": 186055,
     "status": "ok",
     "timestamp": 1444485672525,
     "user": {
      "color": "#1FA15D",
      "displayName": "Vincent Vanhoucke",
      "isAnonymous": false,
      "isMe": true,
      "permissionId": "05076109866853157986",
      "photoUrl": "//lh6.googleusercontent.com/-cCJa7dTDcgQ/AAAAAAAAAAI/AAAAAAAACgw/r2EZ_8oYer4/s50-c-k-no/photo.jpg",
      "sessionId": "2a0a5e044bb03b66",
      "userId": "102167687554210253930"
     },
     "user_tz": 420
    },
    "id": "H8CBE-WZ8nmj",
    "outputId": "ef6c790c-2513-4b09-962e-27c79390c762"
   },
   "outputs": [
    {
     "name": "stdout",
     "output_type": "stream",
     "text": [
      "notMNIST_large already present - Skipping extraction of notMNIST_large.tar.gz.\n",
      "['notMNIST_large/A', 'notMNIST_large/B', 'notMNIST_large/C', 'notMNIST_large/D', 'notMNIST_large/E', 'notMNIST_large/F', 'notMNIST_large/G', 'notMNIST_large/H', 'notMNIST_large/I', 'notMNIST_large/J']\n",
      "notMNIST_small already present - Skipping extraction of notMNIST_small.tar.gz.\n",
      "['notMNIST_small/A', 'notMNIST_small/B', 'notMNIST_small/C', 'notMNIST_small/D', 'notMNIST_small/E', 'notMNIST_small/F', 'notMNIST_small/G', 'notMNIST_small/H', 'notMNIST_small/I', 'notMNIST_small/J']\n"
     ]
    }
   ],
   "source": [
    "num_classes = 10\n",
    "np.random.seed(133)\n",
    "\n",
    "def maybe_extract(filename, force=False):\n",
    "  root = os.path.splitext(os.path.splitext(filename)[0])[0]  # remove .tar.gz\n",
    "  if os.path.isdir(root) and not force:\n",
    "    # You may override by setting force=True.\n",
    "    print('%s already present - Skipping extraction of %s.' % (root, filename))\n",
    "  else:\n",
    "    print('Extracting data for %s. This may take a while. Please wait.' % root)\n",
    "    tar = tarfile.open(filename)\n",
    "    sys.stdout.flush()\n",
    "    tar.extractall()\n",
    "    tar.close()\n",
    "  data_folders = [\n",
    "    os.path.join(root, d) for d in sorted(os.listdir(root))\n",
    "    if os.path.isdir(os.path.join(root, d))]\n",
    "  if len(data_folders) != num_classes:\n",
    "    raise Exception(\n",
    "      'Expected %d folders, one per class. Found %d instead.' % (\n",
    "        num_classes, len(data_folders)))\n",
    "  print(data_folders)\n",
    "  return data_folders\n",
    "  \n",
    "train_folders = maybe_extract(train_filename)\n",
    "test_folders = maybe_extract(test_filename)"
   ]
  },
  {
   "cell_type": "markdown",
   "metadata": {
    "colab_type": "text",
    "id": "4riXK3IoHgx6"
   },
   "source": [
    "---\n",
    "Problem 1\n",
    "---------\n",
    "\n",
    "Let's take a peek at some of the data to make sure it looks sensible. Each exemplar should be an image of a character A through J rendered in a different font. Display a sample of the images that we just downloaded. Hint: you can use the package IPython.display.\n",
    "\n",
    "---"
   ]
  },
  {
   "cell_type": "code",
   "execution_count": 6,
   "metadata": {
    "collapsed": false
   },
   "outputs": [
    {
     "data": {
      "image/png": "[encoded data removed]",
      "text/plain": [
       "<IPython.core.display.Image object>"
      ]
     },
     "metadata": {},
     "output_type": "display_data"
    },
    {
     "data": {
      "image/png": "[encoded data removed]",
      "text/plain": [
       "<IPython.core.display.Image object>"
      ]
     },
     "metadata": {},
     "output_type": "display_data"
    },
    {
     "data": {
      "image/png": "[encoded data removed]",
      "text/plain": [
       "<IPython.core.display.Image object>"
      ]
     },
     "metadata": {},
     "output_type": "display_data"
    },
    {
     "data": {
      "image/png": "[encoded data removed]",
      "text/plain": [
       "<IPython.core.display.Image object>"
      ]
     },
     "metadata": {},
     "output_type": "display_data"
    },
    {
     "data": {
      "image/png": "[encoded data removed]",
      "text/plain": [
       "<IPython.core.display.Image object>"
      ]
     },
     "metadata": {},
     "output_type": "display_data"
    },
    {
     "data": {
      "image/png": "[encoded data removed]",
      "text/plain": [
       "<IPython.core.display.Image object>"
      ]
     },
     "metadata": {},
     "output_type": "display_data"
    },
    {
     "data": {
      "image/png": "[encoded data removed]",
      "text/plain": [
       "<IPython.core.display.Image object>"
      ]
     },
     "metadata": {},
     "output_type": "display_data"
    },
    {
     "data": {
      "image/png": "[encoded data removed]",
      "text/plain": [
       "<IPython.core.display.Image object>"
      ]
     },
     "metadata": {},
     "output_type": "display_data"
    },
    {
     "data": {
      "image/png": "[encoded data removed]",
      "text/plain": [
       "<IPython.core.display.Image object>"
      ]
     },
     "metadata": {},
     "output_type": "display_data"
    },
    {
     "data": {
      "image/png": "[encoded data removed]",
      "text/plain": [
       "<IPython.core.display.Image object>"
      ]
     },
     "metadata": {},
     "output_type": "display_data"
    },
    {
     "data": {
      "image/png": "[encoded data removed]",
      "text/plain": [
       "<IPython.core.display.Image object>"
      ]
     },
     "metadata": {},
     "output_type": "display_data"
    },
    {
     "data": {
      "image/png": "[encoded data removed]",
      "text/plain": [
       "<IPython.core.display.Image object>"
      ]
     },
     "metadata": {},
     "output_type": "display_data"
    },
    {
     "data": {
      "image/png": "[encoded data removed]",
      "text/plain": [
       "<IPython.core.display.Image object>"
      ]
     },
     "metadata": {},
     "output_type": "display_data"
    },
    {
     "data": {
      "image/png": "[encoded data removed]",
      "text/plain": [
       "<IPython.core.display.Image object>"
      ]
     },
     "metadata": {},
     "output_type": "display_data"
    },
    {
     "data": {
      "image/png": "[encoded data removed]",
      "text/plain": [
       "<IPython.core.display.Image object>"
      ]
     },
     "metadata": {},
     "output_type": "display_data"
    },
    {
     "data": {
      "image/png": "[encoded data removed]",
      "text/plain": [
       "<IPython.core.display.Image object>"
      ]
     },
     "metadata": {},
     "output_type": "display_data"
    },
    {
     "data": {
      "image/png": "[encoded data removed]",
      "text/plain": [
       "<IPython.core.display.Image object>"
      ]
     },
     "metadata": {},
     "output_type": "display_data"
    }
   ],
   "source": [
    "import glob\n",
    "files = glob.glob('notMNIST_large/A/Q2VsdG*png')\n",
    "images = map(lambda x: Image(None, None, x), files)\n",
    "display(*images)"
   ]
  },
  {
   "cell_type": "markdown",
   "metadata": {
    "colab_type": "text",
    "id": "PBdkjESPK8tw"
   },
   "source": [
    "Now let's load the data in a more manageable format. Since, depending on your computer setup you might not be able to fit it all in memory, we'll load each class into a separate dataset, store them on disk and curate them independently. Later we'll merge them into a single dataset of manageable size.\n",
    "\n",
    "We'll convert the entire dataset into a 3D array (image index, x, y) of floating point values, normalized to have approximately zero mean and standard deviation ~0.5 to make training easier down the road. \n",
    "\n",
    "A few images might not be readable, we'll just skip them."
   ]
  },
  {
   "cell_type": "code",
   "execution_count": 10,
   "metadata": {
    "cellView": "both",
    "colab": {
     "autoexec": {
      "startup": false,
      "wait_interval": 0
     },
     "output_extras": [
      {
       "item_id": 30
      }
     ]
    },
    "colab_type": "code",
    "collapsed": false,
    "executionInfo": {
     "elapsed": 399874,
     "status": "ok",
     "timestamp": 1444485886378,
     "user": {
      "color": "#1FA15D",
      "displayName": "Vincent Vanhoucke",
      "isAnonymous": false,
      "isMe": true,
      "permissionId": "05076109866853157986",
      "photoUrl": "//lh6.googleusercontent.com/-cCJa7dTDcgQ/AAAAAAAAAAI/AAAAAAAACgw/r2EZ_8oYer4/s50-c-k-no/photo.jpg",
      "sessionId": "2a0a5e044bb03b66",
      "userId": "102167687554210253930"
     },
     "user_tz": 420
    },
    "id": "h7q0XhG3MJdf",
    "outputId": "92c391bb-86ff-431d-9ada-315568a19e59"
   },
   "outputs": [
    {
     "name": "stdout",
     "output_type": "stream",
     "text": [
      "notMNIST_large/A.pickle already present - Skipping pickling.\n",
      "notMNIST_large/B.pickle already present - Skipping pickling.\n",
      "notMNIST_large/C.pickle already present - Skipping pickling.\n",
      "notMNIST_large/D.pickle already present - Skipping pickling.\n",
      "notMNIST_large/E.pickle already present - Skipping pickling.\n",
      "notMNIST_large/F.pickle already present - Skipping pickling.\n",
      "notMNIST_large/G.pickle already present - Skipping pickling.\n",
      "notMNIST_large/H.pickle already present - Skipping pickling.\n",
      "notMNIST_large/I.pickle already present - Skipping pickling.\n",
      "notMNIST_large/J.pickle already present - Skipping pickling.\n",
      "notMNIST_small/A.pickle already present - Skipping pickling.\n",
      "notMNIST_small/B.pickle already present - Skipping pickling.\n",
      "notMNIST_small/C.pickle already present - Skipping pickling.\n",
      "notMNIST_small/D.pickle already present - Skipping pickling.\n",
      "notMNIST_small/E.pickle already present - Skipping pickling.\n",
      "notMNIST_small/F.pickle already present - Skipping pickling.\n",
      "notMNIST_small/G.pickle already present - Skipping pickling.\n",
      "notMNIST_small/H.pickle already present - Skipping pickling.\n",
      "notMNIST_small/I.pickle already present - Skipping pickling.\n",
      "notMNIST_small/J.pickle already present - Skipping pickling.\n"
     ]
    }
   ],
   "source": [
    "image_size = 28  # Pixel width and height.\n",
    "pixel_depth = 255.0  # Number of levels per pixel.\n",
    "\n",
    "def load_letter(folder, min_num_images):\n",
    "  \"\"\"Load the data for a single letter label.\"\"\"\n",
    "  image_files = os.listdir(folder)\n",
    "  dataset = np.ndarray(shape=(len(image_files), image_size, image_size),\n",
    "                         dtype=np.float32)\n",
    "  print(folder)\n",
    "  num_images = 0\n",
    "  for image in image_files:\n",
    "    image_file = os.path.join(folder, image)\n",
    "    try:\n",
    "      image_data = (ndimage.imread(image_file).astype(float) - \n",
    "                    pixel_depth / 2) / pixel_depth\n",
    "      if image_data.shape != (image_size, image_size):\n",
    "        raise Exception('Unexpected image shape: %s' % str(image_data.shape))\n",
    "      dataset[num_images, :, :] = image_data\n",
    "      num_images = num_images + 1\n",
    "    except IOError as e:\n",
    "      print('Could not read:', image_file, ':', e, '- it\\'s ok, skipping.')\n",
    "    \n",
    "  dataset = dataset[0:num_images, :, :]\n",
    "  if num_images < min_num_images:\n",
    "    raise Exception('Many fewer images than expected: %d < %d' %\n",
    "                    (num_images, min_num_images))\n",
    "    \n",
    "  print('Full dataset tensor:', dataset.shape)\n",
    "  print('Mean:', np.mean(dataset))\n",
    "  print('Standard deviation:', np.std(dataset))\n",
    "  return dataset\n",
    "        \n",
    "def maybe_pickle(data_folders, min_num_images_per_class, force=False):\n",
    "  dataset_names = []\n",
    "  for folder in data_folders:\n",
    "    set_filename = folder + '.pickle'\n",
    "    dataset_names.append(set_filename)\n",
    "    if os.path.exists(set_filename) and not force:\n",
    "      # You may override by setting force=True.\n",
    "      print('%s already present - Skipping pickling.' % set_filename)\n",
    "    else:\n",
    "      print('Pickling %s.' % set_filename)\n",
    "      dataset = load_letter(folder, min_num_images_per_class)\n",
    "      try:\n",
    "        with open(set_filename, 'wb') as f:\n",
    "          pickle.dump(dataset, f, pickle.HIGHEST_PROTOCOL)\n",
    "      except Exception as e:\n",
    "        print('Unable to save data to', set_filename, ':', e)\n",
    "  \n",
    "  return dataset_names\n",
    "\n",
    "train_datasets = maybe_pickle(train_folders, 45000)\n",
    "test_datasets = maybe_pickle(test_folders, 1800)"
   ]
  },
  {
   "cell_type": "markdown",
   "metadata": {
    "colab_type": "text",
    "id": "vUdbskYE2d87"
   },
   "source": [
    "---\n",
    "Problem 2\n",
    "---------\n",
    "\n",
    "Let's verify that the data still looks good. Displaying a sample of the labels and images from the ndarray. Hint: you can use matplotlib.pyplot.\n",
    "\n",
    "---"
   ]
  },
  {
   "cell_type": "code",
   "execution_count": 28,
   "metadata": {
    "collapsed": false
   },
   "outputs": [
    {
     "name": "stdout",
     "output_type": "stream",
     "text": [
      "[[-0.44117647  0.05686275  0.36666667  0.45686275  0.4137255   0.17450981\n",
      "  -0.34705883 -0.5        -0.49607843 -0.5        -0.5        -0.5        -0.5\n",
      "  -0.5        -0.5        -0.5        -0.5        -0.5        -0.5        -0.5\n",
      "  -0.5        -0.5        -0.5        -0.5        -0.5        -0.5        -0.5\n",
      "  -0.5       ]\n",
      " [ 0.21372549  0.5         0.49607843  0.5         0.49215686  0.5\n",
      "   0.33529413 -0.38627452 -0.5        -0.49607843 -0.5        -0.5        -0.5\n",
      "  -0.5        -0.5        -0.5        -0.5        -0.5        -0.5        -0.5\n",
      "  -0.5        -0.5        -0.5        -0.5        -0.5        -0.5        -0.5\n",
      "  -0.5       ]\n",
      " [ 0.5         0.48823529  0.49607843  0.5         0.5         0.46470588\n",
      "   0.5        -0.30000001 -0.5        -0.49215686 -0.5        -0.5        -0.5\n",
      "  -0.5        -0.5        -0.5        -0.5        -0.5        -0.5        -0.5\n",
      "  -0.5        -0.5        -0.5        -0.5        -0.5        -0.5        -0.5\n",
      "  -0.5       ]\n",
      " [ 0.49607843  0.5         0.5         0.5         0.5         0.47647059\n",
      "   0.5        -0.30000001 -0.5        -0.49215686 -0.5        -0.5        -0.5\n",
      "  -0.5        -0.5        -0.5        -0.5        -0.5        -0.5        -0.5\n",
      "  -0.5        -0.5        -0.5        -0.5        -0.5        -0.5        -0.5\n",
      "  -0.5       ]\n",
      " [ 0.5         0.5         0.5         0.5         0.5         0.47647059\n",
      "   0.5        -0.30000001 -0.5        -0.49215686 -0.5        -0.5        -0.5\n",
      "  -0.5        -0.5        -0.5        -0.5        -0.5        -0.5        -0.5\n",
      "  -0.5        -0.5        -0.5        -0.5        -0.5        -0.5        -0.5\n",
      "  -0.5       ]\n",
      " [ 0.5         0.5         0.5         0.5         0.5         0.47647059\n",
      "   0.5        -0.30000001 -0.5        -0.48823529 -0.49607843 -0.49215686\n",
      "  -0.49215686 -0.49215686 -0.49215686 -0.49215686 -0.49215686 -0.49607843\n",
      "  -0.49607843 -0.49607843 -0.49607843 -0.5        -0.5        -0.5        -0.5\n",
      "  -0.5        -0.5        -0.5       ]\n",
      " [ 0.5         0.5         0.5         0.5         0.5         0.47647059\n",
      "   0.5        -0.29215688 -0.5        -0.49215686 -0.5        -0.5        -0.5\n",
      "  -0.5        -0.5        -0.5        -0.5        -0.5        -0.5        -0.5\n",
      "  -0.49607843 -0.48823529 -0.49215686 -0.5        -0.5        -0.5        -0.5\n",
      "  -0.5       ]\n",
      " [ 0.5         0.5         0.5         0.5         0.5         0.47647059\n",
      "   0.5        -0.30000001 -0.5        -0.43333334 -0.39803922 -0.39803922\n",
      "  -0.39803922 -0.39803922 -0.39803922 -0.39803922 -0.39803922 -0.40588236\n",
      "  -0.42156863 -0.45294118 -0.5        -0.5        -0.5        -0.49607843\n",
      "  -0.49215686 -0.5        -0.5        -0.5       ]\n",
      " [ 0.5         0.5         0.5         0.5         0.5         0.48431373\n",
      "   0.5        -0.04901961  0.15882353  0.40980393  0.48431373  0.49215686\n",
      "   0.49215686  0.49215686  0.49215686  0.49215686  0.49215686  0.48039216\n",
      "   0.43725491  0.36666667  0.2254902   0.04117647 -0.25294119 -0.47254902\n",
      "  -0.5        -0.48823529 -0.49607843 -0.5       ]\n",
      " [ 0.5         0.5         0.5         0.5         0.5         0.5         0.5\n",
      "   0.5         0.5         0.5         0.5         0.5         0.5         0.5\n",
      "   0.5         0.5         0.5         0.5         0.5         0.5         0.5\n",
      "   0.49607843  0.5         0.30000001 -0.17058824 -0.47647059 -0.5\n",
      "  -0.49607843]\n",
      " [ 0.5         0.5         0.5         0.5         0.5         0.5         0.5\n",
      "   0.5         0.5         0.5         0.49607843  0.49607843  0.49607843\n",
      "   0.49607843  0.49607843  0.49607843  0.49607843  0.49215686  0.48823529\n",
      "   0.48039216  0.48823529  0.48431373  0.49607843  0.49215686  0.5\n",
      "   0.1627451  -0.44901961 -0.5       ]\n",
      " [ 0.5         0.5         0.5         0.5         0.5         0.49215686\n",
      "   0.5         0.15882353  0.30000001  0.46470588  0.5         0.5         0.5\n",
      "   0.5         0.5         0.5         0.5         0.5         0.5         0.5\n",
      "   0.5         0.5         0.5         0.48823529  0.48431373  0.5\n",
      "   0.22941177 -0.45686275]\n",
      " [ 0.5         0.5         0.5         0.5         0.5         0.47647059\n",
      "   0.5        -0.30392158 -0.5        -0.37450981 -0.34313726 -0.3392157\n",
      "  -0.3392157  -0.3392157  -0.3392157  -0.3392157  -0.3392157  -0.33137256\n",
      "  -0.22156863  0.15882353  0.5         0.49607843  0.5         0.5         0.5\n",
      "   0.48431373  0.5        -0.02941176]\n",
      " [ 0.5         0.5         0.5         0.5         0.5         0.47647059\n",
      "   0.5        -0.29215688 -0.5        -0.49215686 -0.5        -0.5        -0.5\n",
      "  -0.5        -0.5        -0.5        -0.5        -0.5        -0.5\n",
      "  -0.48823529  0.04901961  0.5         0.48431373  0.5         0.5         0.5\n",
      "   0.5         0.36274511]\n",
      " [ 0.5         0.5         0.5         0.5         0.5         0.47647059\n",
      "   0.5        -0.30000001 -0.5        -0.48431373 -0.49215686 -0.49215686\n",
      "  -0.49215686 -0.49215686 -0.49215686 -0.49215686 -0.49215686 -0.49215686\n",
      "  -0.48039216 -0.5        -0.30000001  0.5         0.47647059  0.5         0.5\n",
      "   0.5         0.5         0.48431373]\n",
      " [ 0.5         0.5         0.5         0.5         0.5         0.47647059\n",
      "   0.5        -0.30000001 -0.5        -0.49215686 -0.5        -0.5        -0.5\n",
      "  -0.5        -0.5        -0.5        -0.5        -0.5        -0.49215686\n",
      "  -0.5        -0.29607844  0.5         0.47647059  0.5         0.5         0.5\n",
      "   0.5         0.5       ]\n",
      " [ 0.5         0.5         0.5         0.5         0.5         0.47647059\n",
      "   0.5        -0.30000001 -0.5        -0.49215686 -0.5        -0.5        -0.5\n",
      "  -0.5        -0.5        -0.5        -0.5        -0.5        -0.49215686\n",
      "  -0.5        -0.30000001  0.5         0.47647059  0.5         0.5         0.5\n",
      "   0.5         0.5       ]\n",
      " [ 0.5         0.5         0.5         0.5         0.5         0.47647059\n",
      "   0.5        -0.30000001 -0.5        -0.49215686 -0.5        -0.5        -0.5\n",
      "  -0.5        -0.5        -0.5        -0.5        -0.5        -0.49215686\n",
      "  -0.5        -0.30000001  0.5         0.47647059  0.5         0.5         0.5\n",
      "   0.5         0.5       ]\n",
      " [ 0.5         0.5         0.5         0.5         0.5         0.47647059\n",
      "   0.5        -0.30000001 -0.5        -0.49215686 -0.5        -0.5        -0.5\n",
      "  -0.5        -0.5        -0.5        -0.5        -0.5        -0.49215686\n",
      "  -0.5        -0.30000001  0.5         0.47647059  0.5         0.5         0.5\n",
      "   0.5         0.5       ]\n",
      " [ 0.5         0.5         0.5         0.5         0.5         0.47647059\n",
      "   0.5        -0.30000001 -0.5        -0.49215686 -0.5        -0.5        -0.5\n",
      "  -0.5        -0.5        -0.5        -0.5        -0.5        -0.49215686\n",
      "  -0.5        -0.29607844  0.5         0.47647059  0.5         0.5         0.5\n",
      "   0.5         0.5       ]\n",
      " [ 0.5         0.5         0.5         0.5         0.5         0.47647059\n",
      "   0.5        -0.30000001 -0.5        -0.49215686 -0.5        -0.5        -0.5\n",
      "  -0.5        -0.5        -0.5        -0.5        -0.5        -0.49215686\n",
      "  -0.5        -0.30000001  0.5         0.47647059  0.5         0.5         0.5\n",
      "   0.5         0.5       ]\n",
      " [ 0.48039216  0.5         0.5         0.5         0.5         0.47647059\n",
      "   0.5        -0.30000001 -0.5        -0.48039216 -0.48823529 -0.48823529\n",
      "  -0.48823529 -0.48823529 -0.48823529 -0.48823529 -0.48823529 -0.48823529\n",
      "  -0.48039216 -0.5        -0.29607844  0.5         0.47647059  0.5         0.5\n",
      "   0.5         0.5         0.48039216]\n",
      " [ 0.33137256  0.5         0.5         0.5         0.5         0.48823529\n",
      "   0.5         0.12352941 -0.47254902 -0.5        -0.5        -0.5        -0.5\n",
      "  -0.5        -0.5        -0.5        -0.5        -0.5        -0.5\n",
      "  -0.46862745  0.14705883  0.5         0.48823529  0.5         0.5         0.5\n",
      "   0.5         0.33137256]\n",
      " [-0.11568628  0.5         0.48431373  0.49607843  0.5         0.5\n",
      "   0.49607843  0.5         0.29607844 -0.04509804 -0.20980392 -0.27254903\n",
      "  -0.27254903 -0.27254903 -0.27254903 -0.27254903 -0.27254903 -0.20980392\n",
      "  -0.0372549   0.30784315  0.5         0.49607843  0.5         0.5\n",
      "   0.49607843  0.48431373  0.5        -0.10784314]\n",
      " [-0.48039216  0.10784314  0.5         0.48431373  0.48823529  0.49607843\n",
      "   0.5         0.49215686  0.5         0.5         0.5         0.5         0.5\n",
      "   0.5         0.5         0.5         0.5         0.5         0.5         0.5\n",
      "   0.49215686  0.5         0.49607843  0.48823529  0.48431373  0.5\n",
      "   0.12352941 -0.48039216]\n",
      " [-0.5        -0.47647059  0.00196078  0.46078432  0.5         0.49607843\n",
      "   0.49215686  0.48823529  0.48431373  0.48431373  0.48823529  0.48823529\n",
      "   0.48823529  0.48823529  0.48823529  0.48823529  0.48823529  0.48823529\n",
      "   0.48431373  0.48431373  0.48823529  0.49215686  0.49607843  0.5\n",
      "   0.46862745  0.02156863 -0.47254902 -0.5       ]\n",
      " [-0.5        -0.49215686 -0.5        -0.32745099  0.11960784  0.4254902\n",
      "   0.49607843  0.5         0.5         0.5         0.5         0.5         0.5\n",
      "   0.5         0.5         0.5         0.5         0.5         0.5         0.5\n",
      "   0.5         0.49607843  0.43333334  0.13921569 -0.31176472 -0.5\n",
      "  -0.49215686 -0.49607843]\n",
      " [-0.5        -0.49607843 -0.49215686 -0.49607843 -0.5        -0.39019608\n",
      "  -0.10392157  0.11960784  0.29215688  0.40588236  0.46078432  0.49607843\n",
      "   0.5         0.5         0.5         0.5         0.49607843  0.46078432\n",
      "   0.40588236  0.29607844  0.12745099 -0.09215686 -0.37843138 -0.5\n",
      "  -0.49607843 -0.48823529 -0.49607843 -0.5       ]]\n",
      "[[-0.5        -0.5        -0.5        -0.5        -0.5        -0.49607843\n",
      "  -0.49607843 -0.49215686  0.17058824 -0.27254903 -0.5        -0.49215686\n",
      "  -0.5        -0.5        -0.49607843 -0.49607843 -0.49607843 -0.49607843\n",
      "  -0.5        -0.5        -0.5        -0.5        -0.5        -0.5        -0.5\n",
      "  -0.5        -0.5        -0.5       ]\n",
      " [-0.5        -0.5        -0.5        -0.5        -0.5        -0.48823529\n",
      "  -0.5         0.09607843  0.5         0.30000001 -0.40980393 -0.49607843\n",
      "  -0.49607843 -0.5        -0.5        -0.5        -0.5        -0.5        -0.5\n",
      "  -0.5        -0.5        -0.5        -0.33529413 -0.31176472 -0.31176472\n",
      "  -0.31176472 -0.31176472 -0.34313726]\n",
      " [-0.5        -0.5        -0.5        -0.49607843 -0.48431373 -0.5\n",
      "   0.04117647  0.5         0.46862745  0.5        -0.19019608 -0.5\n",
      "  -0.48823529 -0.5        -0.46078432 -0.43725491 -0.44117647 -0.43725491\n",
      "  -0.48431373 -0.48431373 -0.48823529 -0.39019608  0.5         0.5         0.5\n",
      "   0.5         0.5         0.25686276]\n",
      " [-0.5        -0.5        -0.5        -0.48431373 -0.5        -0.0372549\n",
      "   0.5         0.47254902  0.5         0.01764706 -0.5        -0.49215686\n",
      "  -0.49607843 -0.5         0.2647059   0.46470588  0.46470588  0.43725491\n",
      "  -0.38627452 -0.5        -0.5        -0.40196079  0.07254902  0.06862745\n",
      "   0.06862745  0.06078431  0.06862745 -0.20980392]\n",
      " [-0.5        -0.5        -0.49607843 -0.5        -0.11568628  0.5\n",
      "   0.47254902  0.5         0.1        -0.5        -0.49215686 -0.49215686\n",
      "  -0.5        -0.44117647  0.42156863  0.5         0.5         0.37450981\n",
      "  -0.45686275 -0.28431374 -0.2647059  -0.46078432 -0.5        -0.5        -0.5\n",
      "  -0.5        -0.5        -0.5       ]\n",
      " [-0.5        -0.49215686 -0.49215686 -0.18235295  0.48431373  0.47647059\n",
      "   0.5         0.16666667 -0.5        -0.5        -0.48823529 -0.49215686\n",
      "  -0.5        -0.32745099  0.49215686  0.48823529  0.49607843  0.19019608\n",
      "  -0.36274511  0.5         0.5        -0.34313726 -0.48039216 -0.46862745\n",
      "  -0.48039216 -0.48039216 -0.48039216 -0.48823529]\n",
      " [-0.49607843 -0.5        -0.46078432  0.40980393  0.49215686  0.5\n",
      "   0.23333333 -0.5         0.15882353 -0.11176471 -0.5        -0.47254902\n",
      "  -0.49607843 -0.18235295  0.5         0.47254902  0.5         0.01372549\n",
      "  -0.17450981  0.5         0.3392157  -0.48823529 -0.49215686 -0.49215686\n",
      "  -0.49607843 -0.49607843 -0.49607843 -0.5       ]\n",
      " [-0.5        -0.48823529 -0.5        -0.06862745  0.5         0.29215688\n",
      "  -0.5         0.04117647  0.5         0.48823529 -0.14705883 -0.5        -0.5\n",
      "  -0.03333334  0.5         0.46862745  0.5        -0.11960784 -0.45686275\n",
      "  -0.35490197 -0.4137255  -0.5        -0.5        -0.5        -0.5        -0.5\n",
      "  -0.5        -0.5       ]\n",
      " [-0.5        -0.49607843 -0.5        -0.5         0.1        -0.43333334\n",
      "  -0.09607843  0.5         0.48039216  0.48823529  0.36666667 -0.30784315\n",
      "  -0.42156863  0.17450981  0.5         0.48039216  0.49607843 -0.17843138\n",
      "  -0.44117647 -0.44901961 -0.45294118 -0.41764706 -0.40980393 -0.40980393\n",
      "  -0.40980393 -0.41764706 -0.42156863 -0.46862745]\n",
      " [-0.5        -0.5        -0.5        -0.48431373 -0.5        -0.18627451\n",
      "   0.5         0.48039216  0.49607843  0.3392157   0.1         0.5         0.5\n",
      "   0.5         0.5         0.5         0.5         0.5         0.5         0.5\n",
      "   0.5         0.5         0.48823529  0.49215686  0.48823529  0.5         0.5\n",
      "  -0.29215688]\n",
      " [-0.5        -0.5        -0.48823529 -0.5        -0.2647059   0.46862745\n",
      "   0.49215686  0.48823529  0.5         0.18627451  0.19803922  0.22941177\n",
      "   0.25294119  0.48823529  0.5         0.5         0.41764706  0.23333333\n",
      "   0.2372549   0.2372549   0.23333333  0.32352942  0.5         0.5         0.5\n",
      "   0.33137256  0.17058824 -0.43725491]\n",
      " [-0.5        -0.49215686 -0.5        -0.35490197  0.40980393  0.5\n",
      "   0.48431373  0.5         0.34705883 -0.44117647 -0.5        -0.5\n",
      "  -0.39803922  0.48431373  0.48823529  0.5         0.08039216 -0.5        -0.5\n",
      "  -0.5        -0.5        -0.12745099  0.5         0.47254902  0.5\n",
      "  -0.26078433 -0.5        -0.49215686]\n",
      " [-0.49215686 -0.5        -0.4254902   0.33137256  0.5         0.48823529\n",
      "   0.48431373  0.5         0.10392157 -0.5        -0.5        -0.5\n",
      "  -0.17058824  0.5         0.47254902  0.5        -0.08431373 -0.5        -0.5\n",
      "  -0.48039216 -0.48431373  0.07254902  0.5         0.48823529  0.49215686\n",
      "  -0.33529413 -0.48431373 -0.49215686]\n",
      " [-0.49215686 -0.47647059  0.23333333  0.5         0.48823529  0.5\n",
      "   0.48431373  0.5        -0.08431373 -0.37450981 -0.18627451 -0.30000001\n",
      "  -0.04117647  0.5         0.48039216  0.49215686 -0.15490197 -0.20980392\n",
      "  -0.20588236 -0.44901961 -0.5         0.20588236  0.5         0.5\n",
      "   0.4137255  -0.44117647 -0.5        -0.49607843]\n",
      " [-0.5         0.11176471  0.5         0.48039216  0.5         0.5\n",
      "   0.49215686  0.5        -0.30000001  0.1         0.5         0.1\n",
      "   0.07254902  0.5         0.5         0.41764706 -0.02156863  0.5         0.5\n",
      "  -0.39019608 -0.5         0.33137256  0.5         0.5         0.30392158\n",
      "  -0.49607843 -0.49607843 -0.5       ]\n",
      " [ 0.06078431  0.5         0.48431373  0.5         0.5         0.49607843\n",
      "   0.5         0.46470588 -0.36666667  0.30392158  0.48823529 -0.14313726\n",
      "   0.21372549  0.5         0.5         0.31176472 -0.06078431  0.48431373\n",
      "   0.37058824 -0.47647059 -0.44117647  0.43333334  0.5         0.5\n",
      "   0.18235295 -0.5        -0.48823529 -0.5       ]\n",
      " [ 0.23333333  0.5         0.5         0.31568629  0.21372549  0.5         0.5\n",
      "   0.31960785 -0.33529413  0.47254902  0.48431373 -0.26078433  0.36666667\n",
      "   0.5         0.5         0.17450981 -0.03333334  0.5         0.33137256\n",
      "  -0.5        -0.32745099  0.49607843  0.48823529  0.5         0.04117647\n",
      "  -0.5        -0.48431373 -0.5       ]\n",
      " [-0.4254902   0.38627452  0.46862745 -0.3509804   0.2254902   0.5         0.5\n",
      "   0.14313726 -0.20196079  0.5         0.33137256 -0.29607844  0.48431373\n",
      "   0.49215686  0.5         0.03333334  0.01372549  0.5         0.2647059\n",
      "  -0.5        -0.19411765  0.5         0.47647059  0.5        -0.09607843\n",
      "  -0.5        -0.48431373 -0.5       ]\n",
      " [-0.5        -0.23333333 -0.21764706 -0.48039216  0.42941177  0.5         0.5\n",
      "  -0.03333334 -0.00588235  0.5         0.11960784 -0.24117647  0.5\n",
      "   0.47647059  0.5        -0.11960784  0.09607843  0.49215686  0.18627451\n",
      "  -0.5        -0.05686275  0.5         0.47647059  0.5        -0.2372549\n",
      "  -0.5        -0.48823529 -0.5       ]\n",
      " [-0.49607843 -0.5        -0.5        -0.31176472  0.49607843  0.48823529\n",
      "   0.5        -0.1627451   0.20196079  0.49607843 -0.11176471 -0.1         0.5\n",
      "   0.47647059  0.5        -0.26078433  0.20196079  0.5         0.13529412\n",
      "  -0.5         0.09607843  0.5         0.49215686  0.48431373 -0.3509804\n",
      "  -0.5        -0.49215686 -0.5       ]\n",
      " [-0.5        -0.48039216 -0.49215686 -0.15490197  0.5         0.49607843\n",
      "   0.48431373 -0.20588236  0.4137255   0.5        -0.31176472  0.08039216\n",
      "   0.5         0.49607843  0.47647059 -0.35490197  0.26078433  0.40980393\n",
      "  -0.0372549  -0.5         0.22941177  0.5         0.5         0.40196079\n",
      "  -0.45294118 -0.5        -0.49607843 -0.5       ]\n",
      " [-0.5        -0.48431373 -0.5         0.02156863  0.5         0.5\n",
      "   0.37058824 -0.1627451   0.48039216  0.4137255  -0.44901961  0.2647059\n",
      "   0.5         0.5         0.37450981 -0.45294118 -0.32352942 -0.39411765\n",
      "  -0.5        -0.49215686  0.3392157   0.5         0.5         0.30000001\n",
      "  -0.5        -0.5        -0.5        -0.5       ]\n",
      " [-0.5        -0.48823529 -0.5         0.19803922  0.5         0.5\n",
      "   0.28823531 -0.46862745 -0.41764706 -0.44117647 -0.44509804  0.40196079\n",
      "   0.5         0.5         0.24901961 -0.5        -0.5        -0.5        -0.5\n",
      "  -0.42156863  0.43725491  0.49607843  0.5         0.16666667 -0.5\n",
      "  -0.48823529 -0.5        -0.5       ]\n",
      " [-0.49607843 -0.5        -0.48039216  0.3509804   0.5         0.5\n",
      "   0.13137256 -0.5        -0.5        -0.5        -0.33529413  0.49215686\n",
      "   0.48823529  0.5         0.09607843 -0.5        -0.48039216 -0.48431373\n",
      "  -0.5        -0.30784315  0.49607843  0.48431373  0.49215686  0.0254902\n",
      "  -0.5        -0.48431373 -0.5        -0.5       ]\n",
      " [-0.49215686 -0.5        -0.38235295  0.46862745  0.49607843  0.5\n",
      "  -0.04117647 -0.5        -0.46470588 -0.49607843 -0.19803922  0.48823529\n",
      "   0.46078432  0.48823529 -0.06862745 -0.5        -0.48431373 -0.48039216\n",
      "  -0.48823529 -0.19803922  0.49607843  0.46470588  0.5        -0.1        -0.5\n",
      "  -0.48431373 -0.5        -0.5       ]\n",
      " [-0.48823529 -0.5        -0.24509804  0.48823529  0.46862745  0.49215686\n",
      "  -0.21372549 -0.5        -0.47254902 -0.5         0.00196078  0.5         0.5\n",
      "   0.5        -0.21764706 -0.5        -0.48823529 -0.5        -0.5\n",
      "   0.06078431  0.5         0.5         0.39019608 -0.33137256 -0.5\n",
      "  -0.49215686 -0.5        -0.5       ]\n",
      " [-0.48431373 -0.5        -0.01764706  0.5         0.5         0.5\n",
      "  -0.36274511 -0.5        -0.48823529 -0.5        -0.38235295 -0.29215688\n",
      "  -0.29607844 -0.29215688 -0.46078432 -0.49607843 -0.49607843  0.18235295\n",
      "   0.36274511  0.5         0.45294118  0.05686275 -0.40196079 -0.5        -0.5\n",
      "  -0.5        -0.5        -0.5       ]\n",
      " [-0.49215686 -0.5        -0.25686276 -0.04901961 -0.01372549 -0.0372549\n",
      "  -0.47254902 -0.5        -0.5        -0.5        -0.5        -0.5        -0.5\n",
      "  -0.5        -0.5        -0.49607843 -0.5        -0.1509804  -0.02941176\n",
      "  -0.07254902 -0.28431374 -0.5        -0.5        -0.49607843 -0.5        -0.5\n",
      "  -0.5        -0.5       ]]\n",
      "[[ 0.5         0.5         0.5         0.48431373  0.5         0.10392157\n",
      "  -0.5        -0.48039216 -0.5        -0.5        -0.5        -0.5        -0.5\n",
      "  -0.5        -0.5        -0.5        -0.5        -0.5        -0.5        -0.5\n",
      "  -0.5        -0.5        -0.5        -0.5        -0.5        -0.5        -0.5\n",
      "  -0.5       ]\n",
      " [ 0.5         0.5         0.5         0.48431373  0.5         0.10392157\n",
      "  -0.5        -0.48039216 -0.5        -0.5        -0.5        -0.5        -0.5\n",
      "  -0.5        -0.5        -0.5        -0.5        -0.5        -0.5        -0.5\n",
      "  -0.5        -0.5        -0.5        -0.5        -0.5        -0.5        -0.5\n",
      "  -0.5       ]\n",
      " [ 0.5         0.5         0.5         0.48431373  0.5         0.10392157\n",
      "  -0.5        -0.48039216 -0.5        -0.5        -0.5        -0.5        -0.5\n",
      "  -0.5        -0.5        -0.5        -0.5        -0.5        -0.5        -0.5\n",
      "  -0.5        -0.5        -0.5        -0.5        -0.5        -0.5        -0.5\n",
      "  -0.5       ]\n",
      " [ 0.5         0.5         0.5         0.48431373  0.5         0.10392157\n",
      "  -0.5        -0.48039216 -0.5        -0.5        -0.5        -0.5        -0.5\n",
      "  -0.5        -0.5        -0.5        -0.5        -0.5        -0.5        -0.5\n",
      "  -0.5        -0.5        -0.5        -0.5        -0.5        -0.5        -0.5\n",
      "  -0.5       ]\n",
      " [ 0.5         0.5         0.5         0.48431373  0.5         0.10392157\n",
      "  -0.5        -0.48039216 -0.5        -0.5        -0.5        -0.5        -0.5\n",
      "  -0.5        -0.5        -0.5        -0.5        -0.5        -0.5        -0.5\n",
      "  -0.5        -0.5        -0.5        -0.5        -0.5        -0.5        -0.5\n",
      "  -0.5       ]\n",
      " [ 0.5         0.5         0.5         0.48431373  0.5         0.10392157\n",
      "  -0.5        -0.48039216 -0.5        -0.5        -0.5        -0.5        -0.5\n",
      "  -0.5        -0.5        -0.5        -0.5        -0.5        -0.5        -0.5\n",
      "  -0.5        -0.5        -0.5        -0.5        -0.5        -0.5        -0.5\n",
      "  -0.5       ]\n",
      " [ 0.5         0.5         0.5         0.48431373  0.5         0.10392157\n",
      "  -0.5        -0.48039216 -0.5        -0.5        -0.5        -0.5        -0.5\n",
      "  -0.5        -0.5        -0.5        -0.5        -0.5        -0.5        -0.5\n",
      "  -0.5        -0.5        -0.5        -0.5        -0.5        -0.5        -0.5\n",
      "  -0.5       ]\n",
      " [ 0.5         0.5         0.5         0.48431373  0.5         0.10392157\n",
      "  -0.5        -0.48039216 -0.5        -0.5        -0.5        -0.5        -0.5\n",
      "  -0.5        -0.5        -0.5        -0.5        -0.5        -0.5        -0.5\n",
      "  -0.5        -0.5        -0.5        -0.5        -0.5        -0.5        -0.5\n",
      "  -0.5       ]\n",
      " [ 0.5         0.5         0.5         0.48431373  0.5         0.10392157\n",
      "  -0.5        -0.48039216 -0.5        -0.5        -0.5        -0.5        -0.5\n",
      "  -0.5        -0.5        -0.5        -0.5        -0.5        -0.5        -0.5\n",
      "  -0.5        -0.5        -0.5        -0.5        -0.5        -0.5        -0.5\n",
      "  -0.5       ]\n",
      " [ 0.5         0.5         0.5         0.48431373  0.5         0.10784314\n",
      "  -0.49215686 -0.47254902 -0.49215686 -0.49215686 -0.49215686 -0.49215686\n",
      "  -0.49215686 -0.49215686 -0.49215686 -0.49215686 -0.49215686 -0.49215686\n",
      "  -0.49215686 -0.49215686 -0.49215686 -0.49215686 -0.49215686 -0.49215686\n",
      "  -0.49215686 -0.49215686 -0.49215686 -0.49215686]\n",
      " [ 0.5         0.5         0.5         0.48431373  0.5         0.0882353\n",
      "  -0.5        -0.5        -0.5        -0.5        -0.5        -0.5        -0.5\n",
      "  -0.5        -0.5        -0.5        -0.5        -0.5        -0.5        -0.5\n",
      "  -0.5        -0.5        -0.5        -0.5        -0.5        -0.5        -0.5\n",
      "  -0.5       ]\n",
      " [ 0.5         0.5         0.5         0.49607843  0.5         0.41764706\n",
      "   0.29607844  0.30000001  0.29607844  0.29607844  0.29607844  0.29607844\n",
      "   0.29607844  0.29607844  0.29607844  0.29607844  0.29607844  0.29607844\n",
      "   0.29607844  0.29607844  0.29607844  0.29607844  0.29607844  0.29607844\n",
      "   0.29607844  0.29607844  0.29607844  0.29607844]\n",
      " [ 0.5         0.5         0.5         0.5         0.5         0.5         0.5\n",
      "   0.5         0.5         0.5         0.5         0.5         0.5         0.5\n",
      "   0.5         0.5         0.5         0.5         0.5         0.5         0.5\n",
      "   0.5         0.5         0.5         0.5         0.5         0.5         0.5       ]\n",
      " [ 0.5         0.5         0.5         0.5         0.5         0.49607843\n",
      "   0.48823529  0.48823529  0.48823529  0.48823529  0.48823529  0.48823529\n",
      "   0.48823529  0.48823529  0.48823529  0.48823529  0.48823529  0.48823529\n",
      "   0.48823529  0.48823529  0.48823529  0.48823529  0.48823529  0.48823529\n",
      "   0.48823529  0.48823529  0.48823529  0.48823529]\n",
      " [ 0.5         0.5         0.5         0.5         0.5         0.49607843\n",
      "   0.48823529  0.48823529  0.48823529  0.48823529  0.48823529  0.48823529\n",
      "   0.48823529  0.48823529  0.48823529  0.48823529  0.48823529  0.48823529\n",
      "   0.48823529  0.48823529  0.48823529  0.48823529  0.49607843  0.5         0.5\n",
      "   0.5         0.5         0.5       ]\n",
      " [ 0.5         0.5         0.5         0.5         0.5         0.5         0.5\n",
      "   0.5         0.5         0.5         0.5         0.5         0.5         0.5\n",
      "   0.5         0.5         0.5         0.5         0.5         0.5         0.5\n",
      "   0.5         0.5         0.5         0.5         0.5         0.5         0.5       ]\n",
      " [ 0.5         0.5         0.5         0.49607843  0.5         0.41764706\n",
      "   0.29607844  0.30000001  0.29607844  0.29607844  0.29607844  0.29607844\n",
      "   0.29607844  0.29607844  0.29607844  0.29607844  0.29607844  0.29607844\n",
      "   0.29607844  0.29607844  0.30000001  0.29607844  0.41764706  0.5\n",
      "   0.49607843  0.5         0.5         0.5       ]\n",
      " [ 0.5         0.5         0.5         0.48431373  0.5         0.0882353\n",
      "  -0.5        -0.5        -0.5        -0.5        -0.5        -0.5        -0.5\n",
      "  -0.5        -0.5        -0.5        -0.5        -0.5        -0.5        -0.5\n",
      "  -0.5        -0.5         0.0882353   0.5         0.48431373  0.5         0.5\n",
      "   0.5       ]\n",
      " [ 0.5         0.5         0.5         0.48431373  0.5         0.10784314\n",
      "  -0.49215686 -0.47254902 -0.49215686 -0.49215686 -0.49215686 -0.49215686\n",
      "  -0.49215686 -0.49215686 -0.49215686 -0.49215686 -0.49215686 -0.49215686\n",
      "  -0.49215686 -0.49215686 -0.47254902 -0.49215686  0.10784314  0.5\n",
      "   0.48431373  0.5         0.5         0.5       ]\n",
      " [ 0.5         0.5         0.5         0.48431373  0.5         0.10392157\n",
      "  -0.5        -0.48039216 -0.5        -0.5        -0.5        -0.5        -0.5\n",
      "  -0.5        -0.5        -0.5        -0.5        -0.5        -0.5        -0.5\n",
      "  -0.48039216 -0.5         0.10392157  0.5         0.48431373  0.5         0.5\n",
      "   0.5       ]\n",
      " [ 0.5         0.5         0.5         0.48431373  0.5         0.11176471\n",
      "  -0.48039216 -0.46078432 -0.48039216 -0.48039216 -0.48039216 -0.48039216\n",
      "  -0.48039216 -0.48039216 -0.48039216 -0.48039216 -0.48039216 -0.48039216\n",
      "  -0.48039216 -0.48039216 -0.46078432 -0.48039216  0.11176471  0.5\n",
      "   0.48431373  0.5         0.5         0.5       ]\n",
      " [ 0.5         0.5         0.5         0.48431373  0.5         0.07254902\n",
      "  -0.5        -0.5        -0.5        -0.5        -0.5        -0.5        -0.5\n",
      "  -0.5        -0.5        -0.5        -0.5        -0.5        -0.5        -0.5\n",
      "  -0.5        -0.5         0.07254902  0.5         0.48431373  0.5         0.5\n",
      "   0.5       ]\n",
      " [ 0.5         0.5         0.5         0.49215686  0.5         0.34313726\n",
      "   0.10392157  0.11176471  0.10392157  0.10392157  0.10392157  0.10392157\n",
      "   0.10392157  0.10392157  0.10392157  0.10392157  0.10392157  0.10392157\n",
      "   0.10392157  0.10392157  0.11176471  0.10392157  0.34313726  0.5\n",
      "   0.49215686  0.5         0.5         0.5       ]\n",
      " [ 0.5         0.5         0.5         0.5         0.5         0.5         0.5\n",
      "   0.5         0.5         0.5         0.5         0.5         0.5         0.5\n",
      "   0.5         0.5         0.5         0.5         0.5         0.5         0.5\n",
      "   0.5         0.5         0.5         0.5         0.5         0.5         0.5       ]\n",
      " [ 0.5         0.5         0.5         0.5         0.5         0.49215686\n",
      "   0.48431373  0.48431373  0.48431373  0.48431373  0.48431373  0.48431373\n",
      "   0.48431373  0.48431373  0.48431373  0.48431373  0.48431373  0.48431373\n",
      "   0.48431373  0.48431373  0.48431373  0.48431373  0.49215686  0.5         0.5\n",
      "   0.5         0.5         0.5       ]\n",
      " [ 0.5         0.5         0.5         0.5         0.5         0.5         0.5\n",
      "   0.5         0.5         0.5         0.5         0.5         0.5         0.5\n",
      "   0.5         0.5         0.5         0.5         0.5         0.5         0.5\n",
      "   0.5         0.5         0.5         0.5         0.5         0.5         0.5       ]\n",
      " [ 0.5         0.5         0.5         0.5         0.5         0.5         0.5\n",
      "   0.5         0.5         0.5         0.5         0.5         0.5         0.5\n",
      "   0.5         0.5         0.5         0.5         0.5         0.5         0.5\n",
      "   0.5         0.5         0.5         0.5         0.5         0.5         0.5       ]\n",
      " [ 0.5         0.5         0.5         0.5         0.5         0.5         0.5\n",
      "   0.5         0.5         0.5         0.5         0.5         0.5         0.5\n",
      "   0.5         0.5         0.5         0.5         0.5         0.5         0.5\n",
      "   0.5         0.5         0.5         0.5         0.5         0.5         0.5       ]]\n",
      "[[-0.5         0.29607844  0.5         0.49215686  0.5         0.5         0.5\n",
      "   0.5         0.5         0.5         0.5         0.5         0.5         0.5\n",
      "   0.5         0.5         0.5         0.5         0.5         0.48823529\n",
      "   0.49607843  0.5         0.5         0.48431373  0.4254902   0.24509804\n",
      "  -0.24901961 -0.5       ]\n",
      " [-0.5         0.29607844  0.5         0.49215686  0.5         0.5         0.5\n",
      "   0.5         0.5         0.5         0.5         0.5         0.5         0.5\n",
      "   0.5         0.5         0.5         0.5         0.49607843  0.5\n",
      "   0.48431373  0.38235295  0.40196079  0.49215686  0.5         0.5\n",
      "   0.46078432 -0.22156863]\n",
      " [-0.5         0.29607844  0.5         0.48823529  0.49607843  0.49607843\n",
      "   0.49607843  0.49607843  0.49607843  0.49607843  0.49607843  0.49607843\n",
      "   0.49607843  0.49607843  0.49607843  0.5         0.5         0.49215686\n",
      "   0.5         0.24509804 -0.30784315 -0.47647059 -0.46078432 -0.22156863\n",
      "   0.35490197  0.5         0.5         0.27254903]\n",
      " [-0.5         0.30392158  0.5         0.49215686  0.5         0.5         0.5\n",
      "   0.5         0.5         0.5         0.5         0.5         0.5         0.5\n",
      "   0.5         0.5         0.49215686  0.5         0.27254903 -0.47254902\n",
      "  -0.5        -0.49607843 -0.49215686 -0.5        -0.36274511  0.4137255\n",
      "   0.5         0.45294118]\n",
      " [-0.5        -0.35882354 -0.31568629 -0.32352942 -0.32352942 -0.32352942\n",
      "  -0.32352942 -0.32352942 -0.32352942 -0.32352942 -0.32352942 -0.32352942\n",
      "  -0.32352942 -0.31176472 -0.37843138  0.21764706  0.5         0.5\n",
      "  -0.20980392 -0.5        -0.48431373 -0.47647059 -0.40196079 -0.46862745\n",
      "  -0.5         0.02941176  0.5         0.48431373]\n",
      " [-0.5        -0.5        -0.5        -0.5        -0.5        -0.5        -0.5\n",
      "  -0.5        -0.5        -0.5        -0.5        -0.5        -0.5\n",
      "  -0.48431373 -0.5         0.15490197  0.5         0.44509804 -0.39803922\n",
      "  -0.5        -0.46078432  0.20588236  0.5         0.12352941 -0.5\n",
      "  -0.17843138  0.5         0.48431373]\n",
      " [-0.5        -0.49215686 -0.49215686 -0.49215686 -0.49215686 -0.49215686\n",
      "  -0.49215686 -0.49215686 -0.49215686 -0.49215686 -0.49215686 -0.49215686\n",
      "  -0.49215686 -0.47647059 -0.5         0.15882353  0.5         0.46470588\n",
      "  -0.34313726 -0.5        -0.2254902   0.5         0.48823529  0.5\n",
      "  -0.39019608 -0.17058824  0.5         0.48431373]\n",
      " [-0.5        -0.5        -0.5        -0.5        -0.5        -0.5        -0.5\n",
      "  -0.5        -0.5        -0.5        -0.5        -0.5        -0.5\n",
      "  -0.48431373 -0.5         0.15882353  0.5         0.5        -0.05294118\n",
      "  -0.5        -0.37058824  0.38235295  0.5         0.30784315 -0.5\n",
      "   0.17058824  0.5         0.48823529]\n",
      " [-0.5        -0.5        -0.5        -0.5        -0.5        -0.5        -0.5\n",
      "  -0.5        -0.5        -0.5        -0.5        -0.5        -0.5\n",
      "  -0.48431373 -0.5         0.15882353  0.5         0.49607843  0.43725491\n",
      "  -0.29215688 -0.5        -0.40588236 -0.2372549  -0.49607843 -0.12352941\n",
      "   0.5         0.49607843  0.5       ]\n",
      " [-0.5        -0.5        -0.5        -0.5        -0.5        -0.5        -0.5\n",
      "  -0.5        -0.5        -0.5        -0.5        -0.5        -0.5\n",
      "  -0.48431373 -0.5         0.15882353  0.5         0.48039216  0.5\n",
      "   0.43725491  0.00588235 -0.28039217 -0.29215688  0.1         0.5\n",
      "   0.49607843  0.5         0.5       ]\n",
      " [-0.5        -0.5        -0.5        -0.5        -0.5        -0.5        -0.5\n",
      "  -0.5        -0.5        -0.5        -0.5        -0.5        -0.5\n",
      "  -0.48431373 -0.5         0.15882353  0.5         0.48431373  0.49607843\n",
      "   0.49607843  0.5         0.5         0.5         0.5         0.49607843\n",
      "   0.49607843  0.5         0.5       ]\n",
      " [-0.5        -0.5        -0.5        -0.5        -0.5        -0.5        -0.5\n",
      "  -0.5        -0.5        -0.5        -0.5        -0.5        -0.5\n",
      "  -0.48431373 -0.5         0.15882353  0.5         0.48431373  0.5\n",
      "   0.49607843  0.48431373  0.49607843  0.49215686  0.48431373  0.5         0.5\n",
      "   0.5         0.5       ]\n",
      " [-0.5        -0.5        -0.5        -0.5        -0.5        -0.5        -0.5\n",
      "  -0.5        -0.5        -0.5        -0.5        -0.5        -0.5\n",
      "  -0.48431373 -0.5         0.15882353  0.5         0.48431373  0.5         0.5\n",
      "   0.5         0.5         0.5         0.5         0.5         0.5         0.5\n",
      "   0.5       ]\n",
      " [-0.5        -0.5        -0.5        -0.5        -0.5        -0.5        -0.5\n",
      "  -0.5        -0.5        -0.5        -0.5        -0.5        -0.5\n",
      "  -0.48431373 -0.5         0.15882353  0.5         0.48431373  0.5         0.5\n",
      "   0.5         0.5         0.5         0.5         0.5         0.5         0.5\n",
      "   0.5       ]\n",
      " [-0.5        -0.5        -0.5        -0.5        -0.5        -0.5        -0.5\n",
      "  -0.5        -0.5        -0.5        -0.5        -0.5        -0.5\n",
      "  -0.48431373 -0.5         0.15882353  0.5         0.48431373  0.5         0.5\n",
      "   0.5         0.5         0.5         0.5         0.5         0.5         0.5\n",
      "   0.5       ]\n",
      " [-0.5        -0.5        -0.5        -0.5        -0.5        -0.5        -0.5\n",
      "  -0.5        -0.5        -0.5        -0.5        -0.5        -0.5\n",
      "  -0.48431373 -0.5         0.15882353  0.5         0.48431373  0.5         0.5\n",
      "   0.5         0.5         0.5         0.5         0.5         0.5         0.5\n",
      "   0.5       ]\n",
      " [-0.5        -0.5        -0.5        -0.5        -0.5        -0.5        -0.5\n",
      "  -0.5        -0.5        -0.5        -0.5        -0.5        -0.5\n",
      "  -0.48431373 -0.5         0.15882353  0.5         0.48431373  0.5         0.5\n",
      "   0.5         0.5         0.5         0.5         0.5         0.5         0.5\n",
      "   0.5       ]\n",
      " [-0.5        -0.5        -0.5        -0.5        -0.5        -0.5        -0.5\n",
      "  -0.5        -0.5        -0.5        -0.5        -0.5        -0.5\n",
      "  -0.48431373 -0.5         0.15882353  0.5         0.48431373  0.5         0.5\n",
      "   0.5         0.5         0.5         0.5         0.5         0.5         0.5\n",
      "   0.5       ]\n",
      " [-0.5        -0.5        -0.5        -0.5        -0.5        -0.5        -0.5\n",
      "  -0.5        -0.5        -0.5        -0.5        -0.5        -0.5\n",
      "  -0.48431373 -0.5         0.15882353  0.5         0.48431373  0.5         0.5\n",
      "   0.5         0.5         0.5         0.5         0.5         0.5         0.5\n",
      "   0.5       ]\n",
      " [-0.5        -0.5        -0.5        -0.5        -0.5        -0.5        -0.5\n",
      "  -0.5        -0.5        -0.5        -0.5        -0.5        -0.5\n",
      "  -0.48431373 -0.5         0.15882353  0.5         0.48431373  0.5         0.5\n",
      "   0.5         0.5         0.5         0.5         0.5         0.5         0.5\n",
      "   0.5       ]\n",
      " [-0.5        -0.5        -0.5        -0.5        -0.5        -0.5        -0.5\n",
      "  -0.5        -0.5        -0.5        -0.5        -0.5        -0.5\n",
      "  -0.48431373 -0.5         0.15882353  0.5         0.48431373  0.5         0.5\n",
      "   0.5         0.5         0.5         0.5         0.5         0.5         0.5\n",
      "   0.5       ]\n",
      " [-0.49215686 -0.49215686 -0.49215686 -0.49215686 -0.49215686 -0.49215686\n",
      "  -0.49215686 -0.49215686 -0.49215686 -0.49215686 -0.49215686 -0.49215686\n",
      "  -0.49215686 -0.47647059 -0.5         0.1627451   0.5         0.48431373\n",
      "   0.5         0.5         0.5         0.5         0.5         0.5         0.5\n",
      "   0.5         0.5         0.5       ]\n",
      " [-0.5        -0.5        -0.5        -0.5        -0.5        -0.5        -0.5\n",
      "  -0.5        -0.5        -0.5        -0.5        -0.5        -0.5\n",
      "  -0.48431373 -0.5         0.15882353  0.5         0.48431373  0.5         0.5\n",
      "   0.5         0.5         0.5         0.5         0.5         0.5         0.5\n",
      "   0.5       ]\n",
      " [-0.32352942 -0.32352942 -0.32352942 -0.32352942 -0.32352942 -0.32352942\n",
      "  -0.32352942 -0.32352942 -0.32352942 -0.32352942 -0.32352942 -0.32352942\n",
      "  -0.32352942 -0.31176472 -0.37843138  0.21764706  0.5         0.48823529\n",
      "   0.5         0.5         0.5         0.5         0.5         0.5         0.5\n",
      "   0.5         0.5         0.5       ]\n",
      " [ 0.48431373  0.5         0.5         0.5         0.5         0.5         0.5\n",
      "   0.5         0.5         0.5         0.5         0.5         0.5         0.5\n",
      "   0.5         0.5         0.5         0.5         0.5         0.5         0.5\n",
      "   0.5         0.5         0.5         0.5         0.5         0.5         0.5       ]\n",
      " [ 0.40980393  0.5         0.49215686  0.49607843  0.49607843  0.49607843\n",
      "   0.49607843  0.49607843  0.49607843  0.49607843  0.49607843  0.49607843\n",
      "   0.49607843  0.49607843  0.49607843  0.5         0.5         0.5         0.5\n",
      "   0.5         0.5         0.5         0.5         0.5         0.5         0.5\n",
      "   0.5         0.5       ]\n",
      " [ 0.18627451  0.5         0.49215686  0.5         0.5         0.5         0.5\n",
      "   0.5         0.5         0.5         0.5         0.5         0.5         0.5\n",
      "   0.5         0.5         0.5         0.5         0.5         0.5         0.5\n",
      "   0.5         0.5         0.5         0.5         0.5         0.5         0.5       ]\n",
      " [-0.36274511  0.2254902   0.46862745  0.5         0.5         0.5         0.5\n",
      "   0.5         0.5         0.5         0.5         0.5         0.5         0.5\n",
      "   0.5         0.5         0.5         0.5         0.5         0.5         0.5\n",
      "   0.5         0.5         0.5         0.5         0.5         0.5         0.5       ]]\n"
     ]
    },
    {
     "data": {
      "image/png": "[encoded data removed]",
      "text/plain": [
       "<matplotlib.figure.Figure at 0x10d5bc090>"
      ]
     },
     "metadata": {},
     "output_type": "display_data"
    }
   ],
   "source": [
    "import pylab\n",
    "\n",
    "file = open(\"notMNIST_large/B.pickle\",'rb')\n",
    "images = pickle.load(file)\n",
    "file.close()\n",
    "\n",
    "f = pylab.figure()\n",
    "\n",
    "for i in range(1, 5):\n",
    "    f.add_subplot(1, 5, i)\n",
    "    image = images[i]\n",
    "    print(image)\n",
    "    im = plt.imshow(image)\n",
    "    im.axes.get_xaxis().set_visible(False)\n",
    "    im.axes.get_yaxis().set_visible(False)\n",
    "\n",
    "plt.show()"
   ]
  },
  {
   "cell_type": "markdown",
   "metadata": {
    "colab_type": "text",
    "id": "cYznx5jUwzoO"
   },
   "source": [
    "---\n",
    "Problem 3\n",
    "---------\n",
    "Another check: we expect the data to be balanced across classes. Verify that.\n",
    "\n",
    "---"
   ]
  },
  {
   "cell_type": "code",
   "execution_count": 4,
   "metadata": {
    "collapsed": false
   },
   "outputs": [
    {
     "name": "stdout",
     "output_type": "stream",
     "text": [
      "          0         1         2\n",
      "0  41480656 -0.128250  0.443121\n",
      "1  41482224 -0.007563  0.454491\n",
      "2  41483008 -0.142258  0.439806\n",
      "3  41482224 -0.057368  0.455648\n",
      "4  41483008 -0.069899  0.452942\n",
      "5  41483008 -0.125583  0.447090\n",
      "6  41483008 -0.094581  0.446240\n",
      "7  41483008 -0.068522  0.454232\n",
      "8  41483008  0.030786  0.468899\n",
      "9  41482224 -0.153358  0.443656\n"
     ]
    },
    {
     "data": {
      "image/png": "[encoded data removed]",
      "text/plain": [
       "<matplotlib.figure.Figure at 0x10c151150>"
      ]
     },
     "metadata": {},
     "output_type": "display_data"
    }
   ],
   "source": [
    "import pandas\n",
    "\n",
    "def load_letter_dataset(letter):\n",
    "    file = open(\"notMNIST_large/%(letter)s.pickle\" % locals(),'rb')\n",
    "#     file = open(\"notMNIST_small/%(letter)s.pickle\" % locals(),'rb')\n",
    "    dataset = pickle.load(file)\n",
    "    file.close()\n",
    "    return dataset\n",
    "\n",
    "letter_info = []\n",
    "\n",
    "for letter in ['A','B','C','D','E','F','G','H','I','J']:\n",
    "    dataset = load_letter_dataset(letter)\n",
    "    letter_info.append([dataset.size, np.mean(dataset), np.std(dataset)])\n",
    "\n",
    "print(pandas.DataFrame(letter_info))\n",
    "\n",
    "f = pylab.figure()\n",
    "for i in range(0,3):\n",
    "    f.add_subplot(1, 3, i+1)\n",
    "    plt.plot(np.array(letter_info)[:,i])\n",
    "plt.show()"
   ]
  },
  {
   "cell_type": "markdown",
   "metadata": {
    "colab_type": "text",
    "id": "LA7M7K22ynCt"
   },
   "source": [
    "Merge and prune the training data as needed. Depending on your computer setup, you might not be able to fit it all in memory, and you can tune `train_size` as needed. The labels will be stored into a separate array of integers 0 through 9.\n",
    "\n",
    "Also create a validation dataset for hyperparameter tuning."
   ]
  },
  {
   "cell_type": "code",
   "execution_count": 11,
   "metadata": {
    "cellView": "both",
    "colab": {
     "autoexec": {
      "startup": false,
      "wait_interval": 0
     },
     "output_extras": [
      {
       "item_id": 1
      }
     ]
    },
    "colab_type": "code",
    "collapsed": false,
    "executionInfo": {
     "elapsed": 411281,
     "status": "ok",
     "timestamp": 1444485897869,
     "user": {
      "color": "#1FA15D",
      "displayName": "Vincent Vanhoucke",
      "isAnonymous": false,
      "isMe": true,
      "permissionId": "05076109866853157986",
      "photoUrl": "//lh6.googleusercontent.com/-cCJa7dTDcgQ/AAAAAAAAAAI/AAAAAAAACgw/r2EZ_8oYer4/s50-c-k-no/photo.jpg",
      "sessionId": "2a0a5e044bb03b66",
      "userId": "102167687554210253930"
     },
     "user_tz": 420
    },
    "id": "s3mWgZLpyuzq",
    "outputId": "8af66da6-902d-4719-bedc-7c9fb7ae7948"
   },
   "outputs": [
    {
     "name": "stdout",
     "output_type": "stream",
     "text": [
      "Training: (200000, 28, 28) (200000,)\n",
      "Validation: (10000, 28, 28) (10000,)\n",
      "Testing: (10000, 28, 28) (10000,)\n"
     ]
    }
   ],
   "source": [
    "def make_arrays(nb_rows, img_size):\n",
    "  if nb_rows:\n",
    "    dataset = np.ndarray((nb_rows, img_size, img_size), dtype=np.float32)\n",
    "    labels = np.ndarray(nb_rows, dtype=np.int32)\n",
    "  else:\n",
    "    dataset, labels = None, None\n",
    "  return dataset, labels\n",
    "\n",
    "def merge_datasets(pickle_files, train_size, valid_size=0):\n",
    "  num_classes = len(pickle_files)\n",
    "  valid_dataset, valid_labels = make_arrays(valid_size, image_size)\n",
    "  train_dataset, train_labels = make_arrays(train_size, image_size)\n",
    "  vsize_per_class = valid_size // num_classes\n",
    "  tsize_per_class = train_size // num_classes\n",
    "    \n",
    "  start_v, start_t = 0, 0\n",
    "  end_v, end_t = vsize_per_class, tsize_per_class\n",
    "  end_l = vsize_per_class+tsize_per_class\n",
    "  for label, pickle_file in enumerate(pickle_files):       \n",
    "    try:\n",
    "      with open(pickle_file, 'rb') as f:\n",
    "        letter_set = pickle.load(f)\n",
    "        # let's shuffle the letters to have random validation and training set\n",
    "        np.random.shuffle(letter_set)\n",
    "        if valid_dataset is not None:\n",
    "          valid_letter = letter_set[:vsize_per_class, :, :]\n",
    "          valid_dataset[start_v:end_v, :, :] = valid_letter\n",
    "          valid_labels[start_v:end_v] = label\n",
    "          start_v += vsize_per_class\n",
    "          end_v += vsize_per_class\n",
    "                    \n",
    "        train_letter = letter_set[vsize_per_class:end_l, :, :]\n",
    "        train_dataset[start_t:end_t, :, :] = train_letter\n",
    "        train_labels[start_t:end_t] = label\n",
    "        start_t += tsize_per_class\n",
    "        end_t += tsize_per_class\n",
    "    except Exception as e:\n",
    "      print('Unable to process data from', pickle_file, ':', e)\n",
    "      raise\n",
    "    \n",
    "  return valid_dataset, valid_labels, train_dataset, train_labels\n",
    "            \n",
    "            \n",
    "train_size = 200000\n",
    "valid_size = 10000\n",
    "test_size = 10000\n",
    "\n",
    "valid_dataset, valid_labels, train_dataset, train_labels = merge_datasets(\n",
    "  train_datasets, train_size, valid_size)\n",
    "_, _, test_dataset, test_labels = merge_datasets(test_datasets, test_size)\n",
    "\n",
    "print('Training:', train_dataset.shape, train_labels.shape)\n",
    "print('Validation:', valid_dataset.shape, valid_labels.shape)\n",
    "print('Testing:', test_dataset.shape, test_labels.shape)"
   ]
  },
  {
   "cell_type": "markdown",
   "metadata": {
    "colab_type": "text",
    "id": "GPTCnjIcyuKN"
   },
   "source": [
    "Next, we'll randomize the data. It's important to have the labels well shuffled for the training and test distributions to match."
   ]
  },
  {
   "cell_type": "code",
   "execution_count": 6,
   "metadata": {
    "cellView": "both",
    "colab": {
     "autoexec": {
      "startup": false,
      "wait_interval": 0
     }
    },
    "colab_type": "code",
    "collapsed": true,
    "id": "6WZ2l2tN2zOL"
   },
   "outputs": [],
   "source": [
    "def randomize(dataset, labels):\n",
    "  permutation = np.random.permutation(labels.shape[0])\n",
    "  shuffled_dataset = dataset[permutation,:,:]\n",
    "  shuffled_labels = labels[permutation]\n",
    "  return shuffled_dataset, shuffled_labels\n",
    "train_dataset, train_labels = randomize(train_dataset, train_labels)\n",
    "test_dataset, test_labels = randomize(test_dataset, test_labels)\n",
    "valid_dataset, valid_labels = randomize(valid_dataset, valid_labels)"
   ]
  },
  {
   "cell_type": "markdown",
   "metadata": {
    "colab_type": "text",
    "id": "puDUTe6t6USl"
   },
   "source": [
    "---\n",
    "Problem 4\n",
    "---------\n",
    "Convince yourself that the data is still good after shuffling!\n",
    "\n",
    "---"
   ]
  },
  {
   "cell_type": "code",
   "execution_count": 55,
   "metadata": {
    "collapsed": false
   },
   "outputs": [
    {
     "ename": "NameError",
     "evalue": "name 'train_labels' is not defined",
     "output_type": "error",
     "traceback": [
      "\u001b[0;31m---------------------------------------------------------------------------\u001b[0m",
      "\u001b[0;31mNameError\u001b[0m                                 Traceback (most recent call last)",
      "\u001b[0;32m<ipython-input-55-dc24b9bccc54>\u001b[0m in \u001b[0;36m<module>\u001b[0;34m()\u001b[0m\n\u001b[1;32m     14\u001b[0m \u001b[0msubplot_count\u001b[0m \u001b[0;34m=\u001b[0m \u001b[0;36m0\u001b[0m\u001b[0;34m\u001b[0m\u001b[0m\n\u001b[1;32m     15\u001b[0m \u001b[0;34m\u001b[0m\u001b[0m\n\u001b[0;32m---> 16\u001b[0;31m \u001b[0mprint_letters_and_labels\u001b[0m\u001b[0;34m(\u001b[0m\u001b[0mtrain_labels\u001b[0m\u001b[0;34m,\u001b[0m \u001b[0mtrain_dataset\u001b[0m\u001b[0;34m,\u001b[0m \u001b[0;36m1\u001b[0m\u001b[0;34m)\u001b[0m\u001b[0;34m\u001b[0m\u001b[0m\n\u001b[0m\u001b[1;32m     17\u001b[0m \u001b[0mprint_letters_and_labels\u001b[0m\u001b[0;34m(\u001b[0m\u001b[0mvalid_labels\u001b[0m\u001b[0;34m,\u001b[0m \u001b[0mvalid_dataset\u001b[0m\u001b[0;34m,\u001b[0m \u001b[0;36m1\u001b[0m\u001b[0;34m)\u001b[0m\u001b[0;34m\u001b[0m\u001b[0m\n\u001b[1;32m     18\u001b[0m \u001b[0mprint_letters_and_labels\u001b[0m\u001b[0;34m(\u001b[0m\u001b[0mtest_labels\u001b[0m\u001b[0;34m,\u001b[0m \u001b[0mtest_dataset\u001b[0m\u001b[0;34m,\u001b[0m \u001b[0;36m1\u001b[0m\u001b[0;34m)\u001b[0m\u001b[0;34m\u001b[0m\u001b[0m\n",
      "\u001b[0;31mNameError\u001b[0m: name 'train_labels' is not defined"
     ]
    },
    {
     "data": {
      "text/plain": [
       "<matplotlib.figure.Figure at 0x10d1f9750>"
      ]
     },
     "metadata": {},
     "output_type": "display_data"
    }
   ],
   "source": [
    "import pylab\n",
    "\n",
    "def print_letters_and_labels(labels, dataset, starting_index):\n",
    "    global subplot_count\n",
    "    print(labels[range(starting_index, starting_index+4)])\n",
    "    for i in range(0, 4):\n",
    "        f.add_subplot(6, 4, i+1+subplot_count)\n",
    "        im = plt.imshow(dataset[i+starting_index])\n",
    "        im.axes.get_xaxis().set_visible(False)\n",
    "        im.axes.get_yaxis().set_visible(False)    \n",
    "    subplot_count += 4\n",
    "\n",
    "f = pylab.figure()\n",
    "subplot_count = 0\n",
    "\n",
    "print_letters_and_labels(train_labels, train_dataset, 1)\n",
    "print_letters_and_labels(valid_labels, valid_dataset, 1)\n",
    "print_letters_and_labels(test_labels, test_dataset, 1)\n",
    "print_letters_and_labels(train_labels, train_dataset, 200000-100)\n",
    "print_letters_and_labels(valid_labels, valid_dataset, 10000-100)\n",
    "print_letters_and_labels(test_labels, test_dataset, 10000-100)\n",
    "        \n",
    "plt.show()"
   ]
  },
  {
   "cell_type": "markdown",
   "metadata": {
    "colab_type": "text",
    "id": "tIQJaJuwg5Hw"
   },
   "source": [
    "Finally, let's save the data for later reuse:"
   ]
  },
  {
   "cell_type": "code",
   "execution_count": 10,
   "metadata": {
    "cellView": "both",
    "colab": {
     "autoexec": {
      "startup": false,
      "wait_interval": 0
     }
    },
    "colab_type": "code",
    "collapsed": true,
    "id": "QiR_rETzem6C"
   },
   "outputs": [],
   "source": [
    "pickle_file = 'notMNIST.pickle'\n",
    "\n",
    "try:\n",
    "  f = open(pickle_file, 'wb')\n",
    "  save = {\n",
    "    'train_dataset': train_dataset,\n",
    "    'train_labels': train_labels,\n",
    "    'valid_dataset': valid_dataset,\n",
    "    'valid_labels': valid_labels,\n",
    "    'test_dataset': test_dataset,\n",
    "    'test_labels': test_labels,\n",
    "    }\n",
    "  pickle.dump(save, f, pickle.HIGHEST_PROTOCOL)\n",
    "  f.close()\n",
    "except Exception as e:\n",
    "  print('Unable to save data to', pickle_file, ':', e)\n",
    "  raise"
   ]
  },
  {
   "cell_type": "code",
   "execution_count": 11,
   "metadata": {
    "cellView": "both",
    "colab": {
     "autoexec": {
      "startup": false,
      "wait_interval": 0
     },
     "output_extras": [
      {
       "item_id": 1
      }
     ]
    },
    "colab_type": "code",
    "collapsed": false,
    "executionInfo": {
     "elapsed": 413065,
     "status": "ok",
     "timestamp": 1444485899688,
     "user": {
      "color": "#1FA15D",
      "displayName": "Vincent Vanhoucke",
      "isAnonymous": false,
      "isMe": true,
      "permissionId": "05076109866853157986",
      "photoUrl": "//lh6.googleusercontent.com/-cCJa7dTDcgQ/AAAAAAAAAAI/AAAAAAAACgw/r2EZ_8oYer4/s50-c-k-no/photo.jpg",
      "sessionId": "2a0a5e044bb03b66",
      "userId": "102167687554210253930"
     },
     "user_tz": 420
    },
    "id": "hQbLjrW_iT39",
    "outputId": "b440efc6-5ee1-4cbc-d02d-93db44ebd956"
   },
   "outputs": [
    {
     "name": "stdout",
     "output_type": "stream",
     "text": [
      "Compressed pickle size: 690800441\n"
     ]
    }
   ],
   "source": [
    "statinfo = os.stat(pickle_file)\n",
    "print('Compressed pickle size:', statinfo.st_size)"
   ]
  },
  {
   "cell_type": "code",
   "execution_count": 2,
   "metadata": {
    "collapsed": false
   },
   "outputs": [
    {
     "name": "stdout",
     "output_type": "stream",
     "text": [
      "200000\n"
     ]
    }
   ],
   "source": [
    "# Load the datasets and labels from pickle\n",
    "\n",
    "pickle_file = 'notMNIST.pickle'\n",
    "\n",
    "if 'train_dataset' not in locals():\n",
    "    try:\n",
    "        f = open(pickle_file, 'rb')\n",
    "        data = pickle.load(f)\n",
    "        train_dataset = data['train_dataset']\n",
    "        train_labels = data['train_labels']\n",
    "        valid_dataset = data['valid_dataset']\n",
    "        valid_labels = data['valid_labels']\n",
    "        test_dataset = data['test_dataset']\n",
    "        test_labels = data['test_labels']\n",
    "        f.close()\n",
    "    except Exception as e:\n",
    "      print('Unable to load data from', pickle_file, ':', e)\n",
    "      raise\n",
    "\n",
    "else:\n",
    "    print('skipping loading data from file')\n",
    "        \n",
    "print(len(train_dataset))\n",
    "\n",
    "    \n",
    "\n",
    "\n"
   ]
  },
  {
   "cell_type": "markdown",
   "metadata": {
    "colab_type": "text",
    "id": "gE_cRAQB33lk"
   },
   "source": [
    "---\n",
    "Problem 5\n",
    "---------\n",
    "\n",
    "By construction, this dataset might contain a lot of overlapping samples, including training data that's also contained in the validation and test set! Overlap between training and test can skew the results if you expect to use your model in an environment where there is never an overlap, but are actually ok if you expect to see training samples recur when you use it.\n",
    "Measure how much overlap there is between training, validation and test samples.\n",
    "\n",
    "Optional questions:\n",
    "- What about near duplicates between datasets? (images that are almost identical)\n",
    "- Create a sanitized validation and test set, and compare your accuracy on those in subsequent assignments.\n",
    "---"
   ]
  },
  {
   "cell_type": "code",
   "execution_count": 55,
   "metadata": {
    "collapsed": false
   },
   "outputs": [
    {
     "data": {
      "image/png": "[encoded data removed]",
      "text/plain": [
       "<matplotlib.figure.Figure at 0x110dfc350>"
      ]
     },
     "metadata": {},
     "output_type": "display_data"
    },
    {
     "name": "stdout",
     "output_type": "stream",
     "text": [
      "953\n"
     ]
    }
   ],
   "source": [
    "# Measure how much overlap there is between training, validation and test samples.\n",
    "\n",
    "\n",
    "# current problem is that find_dups_original_hash_way finds 200 dups\n",
    "#                   while find_dups_new_set_way finds 55 dups\n",
    "#\n",
    "# side note.  find_dups_new_set_way only checks hash, not actual image data values\n",
    "\n",
    "\n",
    "import pylab\n",
    "\n",
    "def plot_image(f, index, image):\n",
    "    f.add_subplot(3, 2, index)\n",
    "    im = plt.imshow(image)\n",
    "    im.axes.get_xaxis().set_visible(False)\n",
    "    im.axes.get_yaxis().set_visible(False)\n",
    "\n",
    "def plot_duplicates(duplicates, dataset1, dataset2):\n",
    "    f = pylab.figure()\n",
    "    for i in range(1,4):\n",
    "        dup = duplicates[i+10]\n",
    "        plot_image(f, 2*i-1, dataset1[dup[1]])\n",
    "        plot_image(f, 2*i, dataset2[dup[2]])\n",
    "    plt.show()\n",
    "\n",
    "def find_duplicates(dataset1, dataset2):\n",
    "    dataset1.flags.writeable=False\n",
    "    dataset2.flags.writeable=False\n",
    "    dataset1_hashes = dict((hash(image.data), index) for index, image in enumerate(dataset1))\n",
    "    dataset2_hashes = dict((hash(image.data), index) for index, image in enumerate(dataset2))\n",
    "    duplicate_hashes = set.intersection(set(dataset1_hashes.keys()), set(dataset2_hashes.keys()))\n",
    "    duplicate_hashes = filter(lambda x: np.array_equal(dataset1[dataset1_hashes[x]], dataset2[dataset2_hashes[x]]), duplicate_hashes)\n",
    "    duplicates = map(lambda x: [dataset1[dataset1_hashes[x]], dataset1_hashes[x], dataset2_hashes[x]], duplicate_hashes)\n",
    "    return duplicates\n",
    "\n",
    "\n",
    "duplicates = find_duplicates(train_dataset, valid_dataset)\n",
    "plot_duplicates(duplicates, train_dataset, valid_dataset)\n",
    "print(len(duplicates))"
   ]
  },
  {
   "cell_type": "code",
   "execution_count": 124,
   "metadata": {
    "collapsed": false
   },
   "outputs": [
    {
     "name": "stdout",
     "output_type": "stream",
     "text": [
      "train_dataset2 exists ... skipping merging datasets\n",
      "Training2: (200000, 28, 28) (200000,)\n",
      "Validation2: (10000, 28, 28) (10000,)\n",
      "Testing2: (10000, 28, 28) (10000,)\n"
     ]
    },
    {
     "data": {
      "image/png": "[encoded data removed]",
      "text/plain": [
       "<matplotlib.figure.Figure at 0x145dfba10>"
      ]
     },
     "metadata": {},
     "output_type": "display_data"
    },
    {
     "name": "stdout",
     "output_type": "stream",
     "text": [
      "922\n"
     ]
    }
   ],
   "source": [
    "# Create new train, valid and test datasets by mixing them up.\n",
    "\n",
    "def merge_datasets2(pickle_files, train_size=200000, valid_size=10000, test_size=10000):\n",
    "    num_classes = len(pickle_files)\n",
    "\n",
    "    train_dataset, train_labels = make_arrays(train_size, image_size)\n",
    "    trsize_per_class = train_size // num_classes\n",
    "    valid_dataset, valid_labels = make_arrays(valid_size, image_size)\n",
    "    vsize_per_class = valid_size // num_classes\n",
    "    test_dataset, test_labels = make_arrays(test_size, image_size)\n",
    "    tesize_per_class = test_size // num_classes\n",
    "\n",
    "    start_v, start_tr, start_te = 0, 0, 0\n",
    "    end_v, end_tr, end_te = vsize_per_class, trsize_per_class, tesize_per_class\n",
    "    end_l = vsize_per_class + trsize_per_class + tesize_per_class\n",
    "    for label, pickle_file in enumerate(pickle_files):       \n",
    "        try:\n",
    "            with open(pickle_file, 'rb') as f:\n",
    "                letter_set = pickle.load(f)\n",
    "                # let's shuffle the letters to have random test, validation and training set\n",
    "                np.random.shuffle(letter_set)\n",
    "\n",
    "                valid_letter = letter_set[:vsize_per_class, :, :]\n",
    "                valid_dataset[start_v:end_v, :, :] = valid_letter\n",
    "                valid_labels[start_v:end_v] = label\n",
    "                start_v += vsize_per_class\n",
    "                end_v += vsize_per_class\n",
    "\n",
    "                test_letter = letter_set[vsize_per_class:vsize_per_class+tesize_per_class, :, :]\n",
    "                test_dataset[start_te:end_te, :, :] = test_letter\n",
    "                test_labels[start_te:end_te] = label\n",
    "                start_te += tesize_per_class\n",
    "                end_te += tesize_per_class\n",
    "\n",
    "                train_letter = letter_set[vsize_per_class+tesize_per_class:end_l, :, :]\n",
    "                train_dataset[start_tr:end_tr, :, :] = train_letter\n",
    "                train_labels[start_tr:end_tr] = label\n",
    "                start_tr += trsize_per_class\n",
    "                end_tr += trsize_per_class\n",
    "        except Exception as e:\n",
    "          print('Unable to process data from', pickle_file, ':', e)\n",
    "          raise\n",
    "    \n",
    "    return train_dataset, train_labels, valid_dataset, valid_labels, test_dataset, test_labels\n",
    "      \n",
    "    \n",
    "def save_pickle_file():\n",
    "    try:\n",
    "      f = open('notMNIST.alternate.pickle', 'wb')\n",
    "      save = {\n",
    "        'train_dataset': train_dataset,\n",
    "        'train_labels': train_labels,\n",
    "        'valid_dataset': valid_dataset,\n",
    "        'valid_labels': valid_labels,\n",
    "        'test_dataset': test_dataset,\n",
    "        'test_labels': test_labels,\n",
    "        }\n",
    "      pickle.dump(save, f, pickle.HIGHEST_PROTOCOL)\n",
    "      f.close()\n",
    "    except Exception as e:\n",
    "      print('Unable to save data to', pickle_file, ':', e)\n",
    "      raise\n",
    "\n",
    "\n",
    "if 'train_dataset2' not in locals():\n",
    "    train_dataset2, train_labels2, valid_dataset2, valid_labels2, test_dataset2, test_labels2 = \\\n",
    "        merge_datasets2(train_datasets)\n",
    "else:\n",
    "    print('train_dataset2 exists ... skipping merging datasets')\n",
    "\n",
    "    \n",
    "# check if data looks good\n",
    "print('Training2:', train_dataset2.shape, train_labels2.shape)\n",
    "print('Validation2:', valid_dataset2.shape, valid_labels2.shape)\n",
    "print('Testing2:', test_dataset2.shape, test_labels2.shape)\n",
    "# f = pylab.figure() \n",
    "# plot_image(f, 1, train_dataset2[0])\n",
    "# plot_image(f, 2, train_dataset2[199999])\n",
    "# plot_image(f, 3, valid_dataset2[0])\n",
    "# plot_image(f, 4, valid_dataset2[9999])\n",
    "# plot_image(f, 5, test_dataset2[0])\n",
    "# plot_image(f, 6, test_dataset2[9999])\n",
    "\n",
    "\n",
    "# save_pickle_file()\n",
    "\n",
    "\n",
    "duplicates = find_duplicates(train_dataset2, valid_dataset2)\n",
    "plot_duplicates(duplicates, train_dataset2, valid_dataset2)\n",
    "print(len(duplicates))"
   ]
  },
  {
   "cell_type": "markdown",
   "metadata": {
    "colab_type": "text",
    "id": "L8oww1s4JMQx"
   },
   "source": [
    "---\n",
    "Problem 6\n",
    "---------\n",
    "\n",
    "Let's get an idea of what an off-the-shelf classifier can give you on this data. It's always good to check that there is something to learn, and that it's a problem that is not so trivial that a canned solution solves it.\n",
    "\n",
    "Train a simple model on this data using 50, 100, 1000 and 5000 training samples. Hint: you can use the LogisticRegression model from sklearn.linear_model.\n",
    "\n",
    "Optional question: train an off-the-shelf model on all the data!\n",
    "\n",
    "---"
   ]
  },
  {
   "cell_type": "code",
   "execution_count": 12,
   "metadata": {
    "collapsed": false
   },
   "outputs": [
    {
     "name": "stdout",
     "output_type": "stream",
     "text": [
      "train_dataset (200000, 28, 28)\n",
      "mini_train_dataset (50, 784)\n",
      "train_labels (200000,)\n",
      "mini_train_labels (50,)\n"
     ]
    },
    {
     "ename": "ValueError",
     "evalue": "This solver needs samples of at least 2 classes in the data, but the data contains only one class: 0",
     "output_type": "error",
     "traceback": [
      "\u001b[0;31m---------------------------------------------------------------------------\u001b[0m",
      "\u001b[0;31mValueError\u001b[0m                                Traceback (most recent call last)",
      "\u001b[0;32m<ipython-input-12-25b951440e50>\u001b[0m in \u001b[0;36m<module>\u001b[0;34m()\u001b[0m\n\u001b[1;32m     23\u001b[0m \u001b[0;32mprint\u001b[0m\u001b[0;34m(\u001b[0m\u001b[0;34m\"mini_train_labels\"\u001b[0m\u001b[0;34m,\u001b[0m \u001b[0mmini_train_labels\u001b[0m\u001b[0;34m.\u001b[0m\u001b[0mshape\u001b[0m\u001b[0;34m)\u001b[0m\u001b[0;34m\u001b[0m\u001b[0m\n\u001b[1;32m     24\u001b[0m \u001b[0;34m\u001b[0m\u001b[0m\n\u001b[0;32m---> 25\u001b[0;31m \u001b[0mmodel\u001b[0m\u001b[0;34m.\u001b[0m\u001b[0mfit\u001b[0m\u001b[0;34m(\u001b[0m\u001b[0mmini_train_dataset\u001b[0m\u001b[0;34m,\u001b[0m \u001b[0mmini_train_labels\u001b[0m\u001b[0;34m)\u001b[0m\u001b[0;34m\u001b[0m\u001b[0m\n\u001b[0m\u001b[1;32m     26\u001b[0m \u001b[0;34m\u001b[0m\u001b[0m\n\u001b[1;32m     27\u001b[0m \u001b[0mprediction\u001b[0m \u001b[0;34m=\u001b[0m \u001b[0mmodel\u001b[0m\u001b[0;34m.\u001b[0m\u001b[0mpredict\u001b[0m\u001b[0;34m(\u001b[0m\u001b[0mtest_dataset\u001b[0m\u001b[0;34m.\u001b[0m\u001b[0mreshape\u001b[0m\u001b[0;34m(\u001b[0m\u001b[0mtest_dataset_size\u001b[0m\u001b[0;34m,\u001b[0m\u001b[0mimage_size\u001b[0m\u001b[0;34m*\u001b[0m\u001b[0mimage_size\u001b[0m\u001b[0;34m)\u001b[0m\u001b[0;34m)\u001b[0m\u001b[0;34m\u001b[0m\u001b[0m\n",
      "\u001b[0;32m/usr/local/lib/python2.7/site-packages/sklearn/linear_model/logistic.pyc\u001b[0m in \u001b[0;36mfit\u001b[0;34m(self, X, y, sample_weight)\u001b[0m\n\u001b[1;32m   1152\u001b[0m                 \u001b[0mX\u001b[0m\u001b[0;34m,\u001b[0m \u001b[0my\u001b[0m\u001b[0;34m,\u001b[0m \u001b[0mself\u001b[0m\u001b[0;34m.\u001b[0m\u001b[0mC\u001b[0m\u001b[0;34m,\u001b[0m \u001b[0mself\u001b[0m\u001b[0;34m.\u001b[0m\u001b[0mfit_intercept\u001b[0m\u001b[0;34m,\u001b[0m \u001b[0mself\u001b[0m\u001b[0;34m.\u001b[0m\u001b[0mintercept_scaling\u001b[0m\u001b[0;34m,\u001b[0m\u001b[0;34m\u001b[0m\u001b[0m\n\u001b[1;32m   1153\u001b[0m                 \u001b[0mself\u001b[0m\u001b[0;34m.\u001b[0m\u001b[0mclass_weight\u001b[0m\u001b[0;34m,\u001b[0m \u001b[0mself\u001b[0m\u001b[0;34m.\u001b[0m\u001b[0mpenalty\u001b[0m\u001b[0;34m,\u001b[0m \u001b[0mself\u001b[0m\u001b[0;34m.\u001b[0m\u001b[0mdual\u001b[0m\u001b[0;34m,\u001b[0m \u001b[0mself\u001b[0m\u001b[0;34m.\u001b[0m\u001b[0mverbose\u001b[0m\u001b[0;34m,\u001b[0m\u001b[0;34m\u001b[0m\u001b[0m\n\u001b[0;32m-> 1154\u001b[0;31m                 self.max_iter, self.tol, self.random_state)\n\u001b[0m\u001b[1;32m   1155\u001b[0m             \u001b[0mself\u001b[0m\u001b[0;34m.\u001b[0m\u001b[0mn_iter_\u001b[0m \u001b[0;34m=\u001b[0m \u001b[0mnp\u001b[0m\u001b[0;34m.\u001b[0m\u001b[0marray\u001b[0m\u001b[0;34m(\u001b[0m\u001b[0;34m[\u001b[0m\u001b[0mn_iter_\u001b[0m\u001b[0;34m]\u001b[0m\u001b[0;34m)\u001b[0m\u001b[0;34m\u001b[0m\u001b[0m\n\u001b[1;32m   1156\u001b[0m             \u001b[0;32mreturn\u001b[0m \u001b[0mself\u001b[0m\u001b[0;34m\u001b[0m\u001b[0m\n",
      "\u001b[0;32m/usr/local/lib/python2.7/site-packages/sklearn/svm/base.pyc\u001b[0m in \u001b[0;36m_fit_liblinear\u001b[0;34m(X, y, C, fit_intercept, intercept_scaling, class_weight, penalty, dual, verbose, max_iter, tol, random_state, multi_class, loss, epsilon)\u001b[0m\n\u001b[1;32m    883\u001b[0m             raise ValueError(\"This solver needs samples of at least 2 classes\"\n\u001b[1;32m    884\u001b[0m                              \u001b[0;34m\" in the data, but the data contains only one\"\u001b[0m\u001b[0;34m\u001b[0m\u001b[0m\n\u001b[0;32m--> 885\u001b[0;31m                              \" class: %r\" % classes_[0])\n\u001b[0m\u001b[1;32m    886\u001b[0m \u001b[0;34m\u001b[0m\u001b[0m\n\u001b[1;32m    887\u001b[0m         \u001b[0mclass_weight_\u001b[0m \u001b[0;34m=\u001b[0m \u001b[0mcompute_class_weight\u001b[0m\u001b[0;34m(\u001b[0m\u001b[0mclass_weight\u001b[0m\u001b[0;34m,\u001b[0m \u001b[0mclasses_\u001b[0m\u001b[0;34m,\u001b[0m \u001b[0my\u001b[0m\u001b[0;34m)\u001b[0m\u001b[0;34m\u001b[0m\u001b[0m\n",
      "\u001b[0;31mValueError\u001b[0m: This solver needs samples of at least 2 classes in the data, but the data contains only one class: 0"
     ]
    }
   ],
   "source": [
    "from timeit import default_timer as timer\n",
    "import pylab\n",
    "\n",
    "start = timer()\n",
    "image_size = 28\n",
    "sample_size = 50\n",
    "\n",
    "model = LogisticRegression(penalty='l2', dual=False, tol=0.0001, C=1.0, fit_intercept=True, intercept_scaling=1, \n",
    "                           class_weight=None, random_state=None, solver='liblinear', max_iter=100, multi_class='ovr', \n",
    "                           verbose=0, warm_start=False, n_jobs=-1)\n",
    "\n",
    "# model = LogisticRegression(multi_class='multinomial', solver='newton-cg', random_state=42, verbose=1, max_iter=1000, n_jobs=-1)\n",
    "\n",
    "id(model)\n",
    "\n",
    "mini_train_dataset = train_dataset[100:sample_size+100].reshape(sample_size,image_size*image_size)\n",
    "mini_train_labels = train_labels[100:sample_size+100]\n",
    "test_dataset_size = test_dataset.shape[0]\n",
    "\n",
    "model.fit(mini_train_dataset, mini_train_labels)\n",
    "\n",
    "prediction = model.predict(test_dataset.reshape(test_dataset_size,image_size*image_size))\n",
    "correct = np.sum(prediction == test_labels)\n",
    "print(correct, 'correct predictions of', test_dataset_size, 'for', 100.0*correct/test_dataset_size, '%')\n",
    "\n",
    "print('execution time:', timer()-start)\n",
    "\n",
    "\n",
    "# show errors so we can see what was mis-classified\n",
    "wrong = np.not_equal(prediction, test_labels)\n",
    "wrong = [[prediction[i], test_labels[i], test_dataset[i]] for i,x in enumerate(prediction)]\n",
    "wrong = filter(lambda x: x[0] != x[1], wrong)\n",
    "\n",
    "f = pylab.figure() \n",
    "plot_image(f, 1, wrong[0][2])\n",
    "plot_image(f, 3, wrong[1][2])\n",
    "plot_image(f, 5, wrong[2][2])\n",
    "print(wrong[0][0], wrong[0][1])\n",
    "print(wrong[1][0], wrong[1][1])\n",
    "print(wrong[2][0], wrong[2][1])"
   ]
  },
  {
   "cell_type": "markdown",
   "metadata": {},
   "source": [
    "\n",
    "---\n",
    "solver='liblinear'\n",
    "\n",
    "on sample_size 10000\n",
    "8600 correct predictions of 10000 for 86.0 %\n",
    "execution time: 61.8513059616\n",
    "\n",
    "on sample_size 5000\n",
    "8530 correct predictions of 10000 for 85.3 %\n",
    "execution time: 27.2800810337\n",
    "\n",
    "on sample_size 1000\n",
    "8316 correct predictions of 10000 for 83.16 %\n",
    "execution time: 2.82062411308\n",
    "\n",
    "sample_size 500\n",
    "8332 correct predictions of 10000 for 83.32 %\n",
    "execution time: 1.25720596313\n",
    "\n",
    "sample_size 50\n",
    "6220 correct predictions of 10000 for 62.2 %\n",
    "execution time: 0.131748914719\n"
   ]
  },
  {
   "cell_type": "code",
   "execution_count": null,
   "metadata": {
    "collapsed": true
   },
   "outputs": [],
   "source": []
  }
 ],
 "metadata": {
  "colab": {
   "default_view": {},
   "name": "1_notmnist.ipynb",
   "provenance": [],
   "version": "0.3.2",
   "views": {}
  },
  "kernelspec": {
   "display_name": "Python 2",
   "language": "python",
   "name": "python2"
  },
  "language_info": {
   "codemirror_mode": {
    "name": "ipython",
    "version": 2
   },
   "file_extension": ".py",
   "mimetype": "text/x-python",
   "name": "python",
   "nbconvert_exporter": "python",
   "pygments_lexer": "ipython2",
   "version": "2.7.11"
  }
 },
 "nbformat": 4,
 "nbformat_minor": 0
}
